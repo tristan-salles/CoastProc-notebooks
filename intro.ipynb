{
 "cells": [
  {
   "cell_type": "markdown",
   "id": "2f405cd7",
   "metadata": {},
   "source": [
    "# Coastal Processes, Environments & Systems\n",
    "\n",
    "This part of the course focuses on coastal systems analysis using both ocean data from a variety of sources (hindcast and forecast data, satellite observations, radar, moored buoys) and numerical models of shoreline changes, wave dynamics and coral reef evolution.\n",
    "\n",
    "The emphasise will be on:\n",
    "\n",
    "+ How to query and analyse numerical and ocean data?\n",
    "+ What can we learn from ocean and wave models on coastal evolution?\n",
    "+ How to use these models and what are their limitations?\n",
    "\n",
    "\n",
    "## [Available notebooks](notebooks) \n",
    "\n",
    "\n",
    "#### Note\n",
    "\n",
    "If you are unfamiliar with **Jupyter environment**, you might want to start with the following notebook: **[Intro](notebooks/IntroNotebook.ipynb)**."
   ]
  },
  {
   "cell_type": "code",
   "execution_count": 1,
   "id": "647701f4",
   "metadata": {},
   "outputs": [
    {
     "data": {
      "text/html": [
       "\n",
       "        <iframe\n",
       "            width=\"900\"\n",
       "            height=\"600\"\n",
       "            src=\"https://tristan-salles.github.io/CoastProc-book/intro.html\"\n",
       "            frameborder=\"0\"\n",
       "            allowfullscreen\n",
       "            \n",
       "        ></iframe>\n",
       "        "
      ],
      "text/plain": [
       "<IPython.lib.display.IFrame at 0x7f813933e4c0>"
      ]
     },
     "execution_count": 1,
     "metadata": {},
     "output_type": "execute_result"
    }
   ],
   "source": [
    "from IPython.display import IFrame\n",
    "IFrame(src='https://tristan-salles.github.io/CoastProc-book/intro.html', width=900, height=600)"
   ]
  },
  {
   "cell_type": "code",
   "execution_count": null,
   "id": "96562c3d",
   "metadata": {},
   "outputs": [],
   "source": []
  }
 ],
 "metadata": {
  "kernelspec": {
   "display_name": "Python 3 (ipykernel)",
   "language": "python",
   "name": "python3"
  },
  "language_info": {
   "codemirror_mode": {
    "name": "ipython",
    "version": 3
   },
   "file_extension": ".py",
   "mimetype": "text/x-python",
   "name": "python",
   "nbconvert_exporter": "python",
   "pygments_lexer": "ipython3",
   "version": "3.8.15"
  }
 },
 "nbformat": 4,
 "nbformat_minor": 5
}
