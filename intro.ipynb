{
 "cells": [
  {
   "cell_type": "markdown",
   "id": "2f405cd7",
   "metadata": {},
   "source": [
    "# Coastal Processes, Environments & Systems\n",
    "\n",
    "\n",
    "This part of the course focuses on coastal systems analysis using both ocean data from a variety of sources (hindcast and forecast data, satellite observations, radar, moored buoys) and numerical models of shoreline changes, wave dynamics and coral reef evolution.\n",
    "\n",
    "The emphasise will be on:\n",
    "\n",
    "+ How to query and analyse numerical and ocean data?\n",
    "+ What can we learn from ocean and wave models on coastal evolution?\n",
    "+ How to use these models and what are their limitations?\n",
    "\n",
    "\n",
    "## [Available notebooks](notebooks) "
   ]
  },
  {
   "cell_type": "code",
   "execution_count": null,
   "id": "647701f4",
   "metadata": {},
   "outputs": [],
   "source": []
  }
 ],
 "metadata": {
  "kernelspec": {
   "display_name": "Python 3 (ipykernel)",
   "language": "python",
   "name": "python3"
  },
  "language_info": {
   "codemirror_mode": {
    "name": "ipython",
    "version": 3
   },
   "file_extension": ".py",
   "mimetype": "text/x-python",
   "name": "python",
   "nbconvert_exporter": "python",
   "pygments_lexer": "ipython3",
   "version": "3.8.15"
  }
 },
 "nbformat": 4,
 "nbformat_minor": 5
}
