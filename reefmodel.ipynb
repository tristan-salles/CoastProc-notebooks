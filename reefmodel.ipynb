{
 "cells": [
  {
   "cell_type": "markdown",
   "id": "12ad53eb",
   "metadata": {},
   "source": [
    "# Coastal Processes, Environments & Systems - Coral Reef Evolution\n",
    "\n",
    "\n",
    "## [Available notebooks](notebooks/ReefModel) "
   ]
  },
  {
   "cell_type": "markdown",
   "id": "d3c35eca",
   "metadata": {},
   "source": [
    "# In-class exercises\n",
    "\n",
    "\n",
    "### 1. [Reef habitat mapping](notebooks/ReefModel/Reef_mapping.ipynb) / Reef_mapping.ipynb\n",
    "\n",
    "Coral reef management and conservation stand to benefit from improved high-resolution global mapping. Reef habitat mapping from remote sensing involves the a posteriori seascape-scale grouping of pixels into classes, often using probability-based sampling or clustering. Here, we look at how clustering approach could be used as a classification method from remote sensing dataset. \n",
    "\n",
    "### 2. [Reef cross-section model](notebooks/ReefModel/Reef2D-model.ipynb) / Reef2D-model.ipynb\n",
    "\n",
    "Reef productivity depend on external parameters that may alter the global chemical balance in the oceans and atmosphere. Using a numerical model that simulates reef growth, erosion, and sedimentation on coastlines undergoing sea level oscillations, and uplift or subsidence, we will explore the formation of different types of coral reefs. "
   ]
  },
  {
   "cell_type": "code",
   "execution_count": null,
   "id": "bc32cb95",
   "metadata": {},
   "outputs": [],
   "source": []
  }
 ],
 "metadata": {
  "kernelspec": {
   "display_name": "Python 3 (ipykernel)",
   "language": "python",
   "name": "python3"
  },
  "language_info": {
   "codemirror_mode": {
    "name": "ipython",
    "version": 3
   },
   "file_extension": ".py",
   "mimetype": "text/x-python",
   "name": "python",
   "nbconvert_exporter": "python",
   "pygments_lexer": "ipython3",
   "version": "3.8.15"
  }
 },
 "nbformat": 4,
 "nbformat_minor": 5
}
