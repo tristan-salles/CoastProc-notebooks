{
 "cells": [
  {
   "cell_type": "markdown",
   "id": "12ad53eb",
   "metadata": {},
   "source": [
    "# Coastal Processes, Environments & Systems - Coral Reef Evolution\n",
    "\n",
    "\n",
    "## [Available notebooks](notebooks/ReefModel) "
   ]
  },
  {
   "cell_type": "markdown",
   "id": "d3c35eca",
   "metadata": {},
   "source": [
    "# In-class exercises\n",
    "\n",
    "\n",
    "### 3. [CCCC data](notebooks/ReefModel/xxx.ipynb) / xxx.ipynb\n",
    "\n",
    "In this example, we first export the ACORN dataset (**NetCDF**) for a given region and then we plot the velocity field at a given time on a 2D grid."
   ]
  },
  {
   "cell_type": "markdown",
   "id": "7b71f104",
   "metadata": {},
   "source": [
    "# Practical notebooks"
   ]
  },
  {
   "cell_type": "markdown",
   "id": "32e77b13",
   "metadata": {},
   "source": [
    "The goals of this lab are:\n",
    "+ To help you get comfortable with Jupyter notebooks. (We will use it throughout our modelling lectures and practicals).\n",
    "+ To show you some examples of dataset coming from different systems: buoys & models.\n",
    "+ To familiarize you with the different open data services and the most common data formats."
   ]
  },
  {
   "cell_type": "markdown",
   "id": "2df8924b",
   "metadata": {},
   "source": [
    "### 1. [yyyy](notebooks/ReefModel/yyyy.ipynb) / yyyy.ipynb\n",
    "\n",
    "The NSW Wave Climate Program utilises a network of seven Waverider stations along the NSW coast. The buoys are located off _Byron Bay_, _Coffs Harbour_, _Crowdy Head_, _Sydney_, _Port Kembla_, _Batemans Bay_ and _Eden_. \n"
   ]
  },
  {
   "cell_type": "code",
   "execution_count": null,
   "id": "0d74f31e",
   "metadata": {},
   "outputs": [],
   "source": []
  }
 ],
 "metadata": {
  "kernelspec": {
   "display_name": "Python 3 (ipykernel)",
   "language": "python",
   "name": "python3"
  },
  "language_info": {
   "codemirror_mode": {
    "name": "ipython",
    "version": 3
   },
   "file_extension": ".py",
   "mimetype": "text/x-python",
   "name": "python",
   "nbconvert_exporter": "python",
   "pygments_lexer": "ipython3",
   "version": "3.8.15"
  }
 },
 "nbformat": 4,
 "nbformat_minor": 5
}
