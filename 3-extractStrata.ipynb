{
 "cells": [
  {
   "cell_type": "code",
   "execution_count": 1,
   "id": "526aa1bf",
   "metadata": {},
   "outputs": [],
   "source": [
    "import math\n",
    "import pygmt\n",
    "import imageio\n",
    "import xarray as xr\n",
    "import numpy as np\n",
    "import pyvista as pv\n",
    "from scripts import stratal as strat\n",
    "from pyevtk.hl import gridToVTK\n",
    "\n",
    "import matplotlib\n",
    "from matplotlib import cm\n",
    "import cmocean as cmo\n",
    "import matplotlib.pyplot as plt\n",
    "import matplotlib.colors as colors\n",
    "from mpl_toolkits.axes_grid1 import make_axes_locatable\n",
    "from scipy.ndimage import gaussian_filter\n",
    "\n",
    "label_size = 7\n",
    "matplotlib.rcParams['xtick.labelsize'] = label_size\n",
    "matplotlib.rcParams['ytick.labelsize'] = label_size\n",
    "matplotlib.rc('font', size=6)\n",
    "\n",
    "%matplotlib inline\n",
    "# %config InlineBackend.figure_format = 'svg'"
   ]
  },
  {
   "cell_type": "markdown",
   "id": "5e260420",
   "metadata": {},
   "source": [
    "# Extract stratigraphy\n",
    "\n",
    "We will now look at the recorded stratigraphy. The stratigraphic layer are recorded in gospl as `HDF5` files stored in the output folder as `stratal.XX.pX.h5` where `XX` is the output step and `X` the processor number.\n",
    "\n",
    "\n",
    "### Stratal record definition\n",
    "\n",
    "The following information are stored:\n",
    "\n",
    "+ elevation at time of deposition, considered to be to the current elevation for the top stratigraphic layer `stratZ`.\n",
    "+ thickness of each stratigrapic layer `stratH` accounting for both erosion & deposition events.\n",
    "+ porosity of coarse sediment `phiS` in each stratigraphic layer computed at center of each layer.\n",
    "\n",
    "We will use the `stratal.py` Python class to extract the information above. It requires the following arguments:\n",
    "\n",
    "+ `path`: the path to the input file\n",
    "+ `filename`: the name of the input file\n",
    "+ `layer`: the stratal file you wish to output"
   ]
  },
  {
   "cell_type": "code",
   "execution_count": 2,
   "id": "720ff540",
   "metadata": {},
   "outputs": [
    {
     "name": "stdout",
     "output_type": "stream",
     "text": [
      "Created sedimentary layers: 35\n",
      "Number of sedimentary layers: 349\n",
      "Start building regular stratigraphic arrays\n",
      "Percentage of arrays built : [####################] 100.0% DONE\n"
     ]
    }
   ],
   "source": [
    "# We pick the last step\n",
    "step = 35 \n",
    "\n",
    "# Load the function and specify the input file\n",
    "strati = strat.stratal(path='./', filename='kup_strat.yml', layer=step, model='utm')\n",
    "\n",
    "# Read the stratigraphic dataset\n",
    "strati.readStratalData()\n",
    "\n",
    "# Interpolate the spherical dataset on a UTM regular grid\n",
    "# by specifying the desired resolution and interpolation neighbours\n",
    "strati.buildUTMmesh(res=2500., nghb=3)"
   ]
  },
  {
   "cell_type": "markdown",
   "id": "8d64af4d",
   "metadata": {},
   "source": [
    "### Extracting the map for the region"
   ]
  },
  {
   "cell_type": "code",
   "execution_count": 10,
   "id": "0470e771",
   "metadata": {},
   "outputs": [],
   "source": [
    "# Smoothing values\n",
    "sigma=0.1"
   ]
  },
  {
   "cell_type": "markdown",
   "id": "35168441",
   "metadata": {},
   "source": [
    "We now specify the stratigraphic values to extract "
   ]
  },
  {
   "cell_type": "code",
   "execution_count": 11,
   "id": "4a3ee4a5",
   "metadata": {},
   "outputs": [],
   "source": [
    "xo = strati.x.min()\n",
    "xm = strati.x.max()\n",
    "yo = strati.y.min()\n",
    "ym = strati.y.max()\n",
    "lon = np.linspace(xo, xm, strati.nx)\n",
    "lat = np.linspace(yo, ym, strati.ny)\n",
    "\n",
    "lons = [0, strati.nx]\n",
    "lats = [0, strati.ny]\n",
    "idlat1 = 0\n",
    "idlat2 = len(lat)\n",
    "idlon1 = 0\n",
    "idlon2 = len(lon)\n",
    "\n",
    "shape = (strati.nx, strati.ny, strati.curLay)\n",
    "    \n",
    "# Define the variables shape    \n",
    "# shape = (idlon2-idlon1,idlat2-idlat1,strati.curLay)\n",
    "\n",
    "# lon\n",
    "x = np.empty(shape)\n",
    "# lat\n",
    "y = np.empty(shape)\n",
    "# elevation\n",
    "z = np.empty(shape)\n",
    "# elevation at the time of deposition\n",
    "e = np.empty(shape)\n",
    "# stratal thickness\n",
    "h = np.empty(shape)\n",
    "# layer ID\n",
    "t = np.empty(shape)\n",
    "# porosity\n",
    "ps = np.empty(shape)\n",
    "\n",
    "# Now let's define the surface elevation\n",
    "zz = strati.zi[-1, idlat1:idlat2, idlon1:idlon2]\n",
    "zz = gaussian_filter(zz, sigma)"
   ]
  },
  {
   "cell_type": "markdown",
   "id": "42b7b93d",
   "metadata": {},
   "source": [
    "We use `numba` to speed things up, the function `getVals` will extract the different variables for individual stratigraphic layer."
   ]
  },
  {
   "cell_type": "code",
   "execution_count": 12,
   "id": "dab64199",
   "metadata": {},
   "outputs": [],
   "source": [
    "import numba as nb\n",
    "\n",
    "@nb.jit(nopython=True)\n",
    "def getVals(k, idlat1, idlat2, idlon1, idlon2, lon, lat, zz, zi, thu, th, phiSi, topz):\n",
    "    \n",
    "    shape = (idlon2-idlon1,idlat2-idlat1)\n",
    "    lx = np.empty(shape)\n",
    "    ly = np.empty(shape) \n",
    "    lz = np.empty(shape)  \n",
    "    le = np.empty(shape) \n",
    "    lh = np.empty(shape)  \n",
    "    lps = np.empty(shape)  \n",
    "    lt = np.empty(shape) \n",
    "    \n",
    "    for j in range(shape[1]):\n",
    "        for i in range(shape[0]):\n",
    "            lx[i, j] = lon[i+idlon1]\n",
    "            ly[i, j] = lat[j+idlat1]  \n",
    "            if topz is None:\n",
    "                lz[i, j] = zz[j, i]\n",
    "            else:\n",
    "                lz[i, j] = topz[i, j] - thu[j, i]\n",
    "            le[i, j] = zi[j, i]\n",
    "            lh[i, j] = th[j, i]\n",
    "            lps[i, j] = phiSi[j, i]\n",
    "            lt[i, j] = k\n",
    "    \n",
    "    return lx, ly, lz, le, lh, lps, lt"
   ]
  },
  {
   "cell_type": "markdown",
   "id": "7f21f9dd",
   "metadata": {},
   "source": [
    "Looping over each layer we extract the information for the desired region:"
   ]
  },
  {
   "cell_type": "code",
   "execution_count": null,
   "id": "e3e17458",
   "metadata": {},
   "outputs": [],
   "source": [
    "for k in range(strati.curLay - 1, -1, -1):\n",
    "    \n",
    "    if sigma > 0:\n",
    "        th = gaussian_filter(strati.thi[k, idlat1:idlat2, idlon1:idlon2], sigma)\n",
    "    th[th < 0] = 0.0\n",
    "    if k < strati.curLay - 1:\n",
    "        if sigma > 0:\n",
    "            thu = gaussian_filter(strati.thi[k + 1, idlat1:idlat2, idlon1:idlon2], sigma)\n",
    "        thu[thu < 0] = 0.0\n",
    "    else:\n",
    "        thu = None\n",
    "    zi = strati.zi[k, idlat1:idlat2, idlon1:idlon2]\n",
    "    phiSi = strati.phiSi[k, idlat1:idlat2, idlon1:idlon2]\n",
    "    \n",
    "    if k == strati.curLay - 1:\n",
    "        topz = None\n",
    "    else:\n",
    "        topz = z[:, :, k + 1] \n",
    "        \n",
    "    ( x[:, :, k], y[:, :, k], z[:, :, k], \n",
    "     e[:, :, k], h[:, :, k], ps[:, :, k], \n",
    "     t[:, :, k] \n",
    "    ) = getVals(k, idlat1, idlat2, idlon1, idlon2,\n",
    "                lon, lat, zz, zi, thu, th, phiSi, topz)"
   ]
  },
  {
   "cell_type": "markdown",
   "id": "3beb915e",
   "metadata": {},
   "source": [
    "We save the dataset as a `vtk` file:"
   ]
  },
  {
   "cell_type": "code",
   "execution_count": null,
   "id": "06dfa9a1",
   "metadata": {},
   "outputs": [],
   "source": [
    "gridToVTK(\n",
    "            'strati_'+str(step),\n",
    "            x,\n",
    "            y,\n",
    "            z,\n",
    "            pointData={\"dep elev\": e, \"th\": h, \"layID\": t, \"phiC\": ps,},\n",
    "        )"
   ]
  },
  {
   "cell_type": "code",
   "execution_count": null,
   "id": "273271f4",
   "metadata": {},
   "outputs": [],
   "source": []
  }
 ],
 "metadata": {
  "kernelspec": {
   "display_name": "Python 3 (ipykernel)",
   "language": "python",
   "name": "python3"
  },
  "language_info": {
   "codemirror_mode": {
    "name": "ipython",
    "version": 3
   },
   "file_extension": ".py",
   "mimetype": "text/x-python",
   "name": "python",
   "nbconvert_exporter": "python",
   "pygments_lexer": "ipython3",
   "version": "3.9.13"
  }
 },
 "nbformat": 4,
 "nbformat_minor": 5
}
