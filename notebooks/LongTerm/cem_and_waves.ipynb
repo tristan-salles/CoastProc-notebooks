{
 "cells": [
  {
   "cell_type": "code",
   "execution_count": null,
   "metadata": {},
   "outputs": [],
   "source": [
    "%matplotlib inline\n",
    "%config InlineBackend.figure_format = 'svg'\n",
    "\n",
    "import warnings\n",
    "warnings.simplefilter(action='ignore', category=FutureWarning)\n",
    "warnings.simplefilter(action='ignore', category=DeprecationWarning)\n",
    "\n",
    "\n",
    "import numpy as np\n",
    "from pymt import models\n",
    "import runmodels_functions as fun"
   ]
  },
  {
   "cell_type": "markdown",
   "metadata": {},
   "source": [
    "## Coastline Evolution Model + Waves\n",
    "\n",
    "\n",
    "This example explores how to couple the **Waves** component with the **Coastline Evolution Model** component.\n",
    "\n",
    "### Links\n",
    "* [CEM source code](https://github.com/csdms/cem-old): Look at the files that have *deltas* in their name.\n",
    "* [CEM description on CSDMS](http://csdms.colorado.edu/wiki/Model_help:CEM): Detailed information on the CEM model."
   ]
  },
  {
   "cell_type": "markdown",
   "metadata": {},
   "source": [
    "Import the **`CEM`** and **`WAVE`** class, and instantiate it. "
   ]
  },
  {
   "cell_type": "code",
   "execution_count": null,
   "metadata": {},
   "outputs": [],
   "source": [
    "cem, waves = models.Cem(), models.Waves()"
   ]
  },
  {
   "cell_type": "markdown",
   "metadata": {},
   "source": [
    "Even though we can't run our waves model yet, we can still get some information about it. *Just don't try to run it.* Some things we can do with our model are get the names of the input variables."
   ]
  },
  {
   "cell_type": "code",
   "execution_count": null,
   "metadata": {},
   "outputs": [],
   "source": [
    "waves.get_output_var_names()"
   ]
  },
  {
   "cell_type": "code",
   "execution_count": null,
   "metadata": {},
   "outputs": [],
   "source": [
    "cem.get_input_var_names()"
   ]
  },
  {
   "cell_type": "markdown",
   "metadata": {},
   "source": [
    "Normally we would pass **CEM** a string that represents the name of an input topography file (as we will do during the practical). \n",
    "\n",
    "For this example we'll only provide the extent of the simulation and use the defaults."
   ]
  },
  {
   "cell_type": "code",
   "execution_count": null,
   "metadata": {},
   "outputs": [],
   "source": [
    "args = cem.setup(number_of_rows=100, number_of_cols=200, grid_spacing=200.0)\n",
    "cem.initialize(*args)\n",
    "args = waves.setup()\n",
    "waves.initialize(*args)"
   ]
  },
  {
   "cell_type": "markdown",
   "metadata": {},
   "source": [
    "We begin with a flat and linear coastline and the bathymetry drops off linearly to the top of the domain."
   ]
  },
  {
   "cell_type": "code",
   "execution_count": null,
   "metadata": {
    "scrolled": false
   },
   "outputs": [],
   "source": [
    "grid_id = cem.get_var_grid(\"sea_water__depth\")\n",
    "spacing = cem.get_grid_spacing(grid_id)\n",
    "shape = cem.get_grid_shape(grid_id)\n",
    "z = np.empty(shape)\n",
    "cem.get_value(\"sea_water__depth\", out=z)\n",
    "fun.plot_coast(-z,spacing[0],spacing[1])"
   ]
  },
  {
   "cell_type": "code",
   "execution_count": null,
   "metadata": {},
   "outputs": [],
   "source": [
    "waves.set_value(\n",
    "    \"sea_shoreline_wave~incoming~deepwater__ashton_et_al_approach_angle_asymmetry_parameter\",\n",
    "    0.3,\n",
    ")\n",
    "waves.set_value(\n",
    "    \"sea_shoreline_wave~incoming~deepwater__ashton_et_al_approach_angle_highness_parameter\",\n",
    "    0.7,\n",
    ")\n",
    "cem.set_value(\"sea_surface_water_wave__height\", 2.0)\n",
    "cem.set_value(\"sea_surface_water_wave__period\", 7.0)"
   ]
  },
  {
   "cell_type": "markdown",
   "metadata": {},
   "source": [
    "Allocate memory for the sediment discharge array and set the discharge at the coastal cell to some value."
   ]
  },
  {
   "cell_type": "code",
   "execution_count": null,
   "metadata": {},
   "outputs": [],
   "source": [
    "qs = np.zeros_like(z)\n",
    "qs[0, 100] = 1750"
   ]
  },
  {
   "cell_type": "markdown",
   "metadata": {},
   "source": [
    "Setting wave parameters:"
   ]
  },
  {
   "cell_type": "code",
   "execution_count": null,
   "metadata": {},
   "outputs": [],
   "source": [
    "waves.set_value(\n",
    "    \"sea_shoreline_wave~incoming~deepwater__ashton_et_al_approach_angle_asymmetry_parameter\",\n",
    "    0.3,\n",
    ")\n",
    "waves.set_value(\n",
    "    \"sea_shoreline_wave~incoming~deepwater__ashton_et_al_approach_angle_highness_parameter\",\n",
    "    0.7,\n",
    ")\n",
    "cem.set_value(\"sea_surface_water_wave__height\", 2.0)\n",
    "cem.set_value(\"sea_surface_water_wave__period\", 7.0)"
   ]
  },
  {
   "cell_type": "markdown",
   "metadata": {},
   "source": [
    "# Running the model\n",
    "\n",
    "Set the bedload flux and run the model."
   ]
  },
  {
   "cell_type": "code",
   "execution_count": null,
   "metadata": {},
   "outputs": [],
   "source": [
    "for time in range(3000):\n",
    "    \n",
    "    waves.update()\n",
    "    angle = waves.get_value(\n",
    "        \"sea_surface_water_wave__azimuth_angle_of_opposite_of_phase_velocity\"\n",
    "    )\n",
    "\n",
    "    cem.set_value(\n",
    "        \"sea_surface_water_wave__azimuth_angle_of_opposite_of_phase_velocity\", angle\n",
    "    )\n",
    "    cem.set_value(\"land_surface_water_sediment~bedload__mass_flow_rate\", qs)\n",
    "    cem.update()\n",
    "\n",
    "cem.get_value(\"sea_water__depth\", out=z)\n",
    "fun.plot_coast(-z,spacing[0],spacing[1])"
   ]
  },
  {
   "cell_type": "markdown",
   "metadata": {},
   "source": [
    "Let's add another sediment source with a different flux and update the model."
   ]
  },
  {
   "cell_type": "code",
   "execution_count": null,
   "metadata": {},
   "outputs": [],
   "source": [
    "qs[0, 150] = 500\n",
    "\n",
    "for time in range(3750):\n",
    "    waves.update()\n",
    "    angle = waves.get_value(\n",
    "        \"sea_surface_water_wave__azimuth_angle_of_opposite_of_phase_velocity\"\n",
    "    )\n",
    "    cem.set_value(\n",
    "        \"sea_surface_water_wave__azimuth_angle_of_opposite_of_phase_velocity\", angle\n",
    "    )\n",
    "\n",
    "    cem.set_value(\"land_surface_water_sediment~bedload__mass_flow_rate\", qs)\n",
    "    cem.update()\n",
    "\n",
    "cem.get_value(\"sea_water__depth\", out=z)\n",
    "fun.plot_coast(-z,spacing[0],spacing[1])"
   ]
  },
  {
   "cell_type": "markdown",
   "metadata": {},
   "source": [
    "Here we shut off the sediment supply completely."
   ]
  },
  {
   "cell_type": "code",
   "execution_count": null,
   "metadata": {},
   "outputs": [],
   "source": [
    "qs.fill(0.0)\n",
    "\n",
    "for time in range(4000):\n",
    "    waves.update()\n",
    "    angle = waves.get_value(\n",
    "        \"sea_surface_water_wave__azimuth_angle_of_opposite_of_phase_velocity\"\n",
    "    )\n",
    "    cem.set_value(\n",
    "        \"sea_surface_water_wave__azimuth_angle_of_opposite_of_phase_velocity\", angle\n",
    "    )\n",
    "\n",
    "    cem.set_value(\"land_surface_water_sediment~bedload__mass_flow_rate\", qs)\n",
    "    cem.update()\n",
    "\n",
    "cem.get_value(\"sea_water__depth\", out=z)\n",
    "fun.plot_coast(-z,spacing[0],spacing[1])"
   ]
  },
  {
   "cell_type": "code",
   "execution_count": null,
   "metadata": {},
   "outputs": [],
   "source": []
  }
 ],
 "metadata": {
  "kernelspec": {
   "display_name": "Python 3 (ipykernel)",
   "language": "python",
   "name": "python3"
  },
  "language_info": {
   "codemirror_mode": {
    "name": "ipython",
    "version": 3
   },
   "file_extension": ".py",
   "mimetype": "text/x-python",
   "name": "python",
   "nbconvert_exporter": "python",
   "pygments_lexer": "ipython3",
   "version": "3.8.15"
  }
 },
 "nbformat": 4,
 "nbformat_minor": 2
}
