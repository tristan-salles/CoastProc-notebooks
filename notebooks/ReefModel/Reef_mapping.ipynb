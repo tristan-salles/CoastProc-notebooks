{
 "cells": [
  {
   "cell_type": "markdown",
   "metadata": {
    "id": "Fny63-jN2NvU"
   },
   "source": [
    "# Reef community mapping \n",
    "\n"
   ]
  },
  {
   "cell_type": "markdown",
   "metadata": {},
   "source": [
    "![OTR](data/satellite_mosaic_and_bathymetry.jpg)"
   ]
  },
  {
   "cell_type": "code",
   "execution_count": null,
   "metadata": {
    "id": "O4OgiNA67rb_"
   },
   "outputs": [],
   "source": [
    "%config InlineBackend.figure_formats = ['svg']\n",
    "%matplotlib inline\n",
    "\n",
    "import warnings\n",
    "warnings.simplefilter(action='ignore', category=FutureWarning)\n",
    "\n",
    "import numpy as np\n",
    "import cv2\n",
    "from osgeo import gdal, gdal_array\n",
    "import rasterio\n",
    "from matplotlib import pyplot as plt\n",
    "from rasterio.plot import show\n",
    "\n",
    "#Clustering packages\n",
    "# from sklearn import cluster\n",
    "# from sklearn.mixture import GaussianMixture as GMM\n",
    "# from sklearn.cluster import AgglomerativeClustering\n",
    "# from sklearn.cluster import DBSCAN\n",
    "\n",
    "import reef_insight as reef"
   ]
  },
  {
   "cell_type": "markdown",
   "metadata": {
    "id": "0VfLY_3P8EU-"
   },
   "source": [
    "## Loading the remote sensing data"
   ]
  },
  {
   "cell_type": "code",
   "execution_count": null,
   "metadata": {},
   "outputs": [],
   "source": [
    "mosaic_path = 'data/mosaic.tif'\n",
    "bathymetry_path ='data/bathymetry.tif'"
   ]
  },
  {
   "cell_type": "markdown",
   "metadata": {},
   "source": [
    "Loading the reef-mosaic as RGB "
   ]
  },
  {
   "cell_type": "code",
   "execution_count": null,
   "metadata": {
    "colab": {
     "base_uri": "https://localhost:8080/",
     "height": 263
    },
    "id": "Sz5sN_Qh78Tp",
    "outputId": "af505ebe-6f07-434f-86e9-3b2b2167cb32"
   },
   "outputs": [],
   "source": [
    "reef_mosaic_benthic = cv2.imread(mosaic_path)\n",
    "reef_mosaic_benthic = cv2.cvtColor(reef_mosaic_benthic, cv2.COLOR_BGR2RGB)\n",
    "\n",
    "fig, ax1 = plt.subplots(1,1,figsize=(10,7))\n",
    "plt.imshow(reef_mosaic_benthic)\n",
    "ax1.tick_params(axis=\"x\", labelsize=8)\n",
    "ax1.tick_params(axis=\"y\", labelsize=8)\n",
    "plt.show()"
   ]
  },
  {
   "cell_type": "markdown",
   "metadata": {},
   "source": [
    "Loading the bathymetry data"
   ]
  },
  {
   "cell_type": "code",
   "execution_count": null,
   "metadata": {
    "colab": {
     "base_uri": "https://localhost:8080/",
     "height": 230
    },
    "id": "GOpqy_0l78c7",
    "outputId": "5ceff1d7-3ca3-4ff7-b6aa-addbee6fdcb1"
   },
   "outputs": [],
   "source": [
    "bathymetry_raster = rasterio.open(bathymetry_path)\n",
    "bathymetry_raster_visual= bathymetry_raster.read([1])\n",
    "\n",
    "fig, ax1 = plt.subplots(1,1,figsize=(10,7))\n",
    "show(bathymetry_raster_visual)\n",
    "ax1.tick_params(axis=\"x\", labelsize=8)\n",
    "ax1.tick_params(axis=\"y\", labelsize=8)\n",
    "plt.show()\n",
    "\n",
    "bathymetry_raster = bathymetry_raster_visual.reshape(bathymetry_raster_visual.shape[1],bathymetry_raster_visual.shape[2],bathymetry_raster_visual.shape[0])\n",
    "bathymetry_raster = np.uint16(bathymetry_raster)"
   ]
  },
  {
   "cell_type": "markdown",
   "metadata": {},
   "source": [
    "Concatenting bathymetric information with the reef mosaic for geomorphic mapping"
   ]
  },
  {
   "cell_type": "code",
   "execution_count": null,
   "metadata": {
    "id": "8V8GSTYm78fV"
   },
   "outputs": [],
   "source": [
    "reef_mosaic_geomorphic = cv2.resize(reef_mosaic_benthic, (885,472))\n",
    "reef_mosaic_geomorphic = np.concatenate((reef_mosaic_geomorphic,bathymetry_raster), axis=2)"
   ]
  },
  {
   "cell_type": "markdown",
   "metadata": {
    "id": "WNs5Nrf0Olyt"
   },
   "source": [
    "## Benthic maps  \n",
    "\n",
    "number_of_cluster = 4\n",
    "\n",
    "\n",
    "### Kmeans Result"
   ]
  },
  {
   "cell_type": "code",
   "execution_count": null,
   "metadata": {
    "colab": {
     "base_uri": "https://localhost:8080/",
     "height": 420
    },
    "id": "6hHvDzckOa8G",
    "outputId": "576bf368-2e5f-4a98-8c4c-1a909ca5a7cb"
   },
   "outputs": [],
   "source": [
    "kmeans_labels = reef.kmeans_mosaic(reef_mosaic_benthic,4)\n",
    "reef.show_cluster_output(kmeans_labels,reef_mosaic_benthic)"
   ]
  },
  {
   "cell_type": "markdown",
   "metadata": {},
   "source": [
    "### Gaussian mixture model clustering result"
   ]
  },
  {
   "cell_type": "code",
   "execution_count": null,
   "metadata": {
    "colab": {
     "base_uri": "https://localhost:8080/",
     "height": 420
    },
    "id": "A8Ncckh9QC5p",
    "outputId": "df600b7a-aed6-459f-b858-426f5ff67cc2"
   },
   "outputs": [],
   "source": [
    "gmm_labels_benthic = reef.gmm_mosaic(reef_mosaic_benthic,4,'full')\n",
    "reef.show_cluster_output(gmm_labels_benthic,reef_mosaic_benthic)"
   ]
  },
  {
   "cell_type": "markdown",
   "metadata": {},
   "source": [
    "### Hierarchichal agglomerative clustering result"
   ]
  },
  {
   "cell_type": "code",
   "execution_count": null,
   "metadata": {
    "colab": {
     "base_uri": "https://localhost:8080/",
     "height": 419
    },
    "id": "jHMHVmbtRpl7",
    "outputId": "738770d1-45a6-4d48-fd3a-cc31b2aeda34"
   },
   "outputs": [],
   "source": [
    "hac_labels,mosaic_hac = reef.hac_mosaic(reef_mosaic_benthic,4)\n",
    "reef.show_cluster_output(hac_labels,mosaic_hac)"
   ]
  },
  {
   "cell_type": "markdown",
   "metadata": {
    "id": "HdxdQJQ-UdSR"
   },
   "source": [
    "## Geomorphic maps  \n",
    "\n",
    "number_of_cluster = 7\n",
    "\n",
    "### Kmeans Result"
   ]
  },
  {
   "cell_type": "code",
   "execution_count": null,
   "metadata": {
    "colab": {
     "base_uri": "https://localhost:8080/",
     "height": 388
    },
    "id": "oxqKJERrUdSS",
    "outputId": "6cef7ffe-3639-4e54-c7c2-b653ffba85f9"
   },
   "outputs": [],
   "source": [
    "kmeans_labels = reef.kmeans_mosaic(reef_mosaic_geomorphic,7)\n",
    "reef.show_cluster_output(kmeans_labels,reef_mosaic_geomorphic)"
   ]
  },
  {
   "cell_type": "markdown",
   "metadata": {},
   "source": [
    "### Gaussian mixture model clustering result"
   ]
  },
  {
   "cell_type": "code",
   "execution_count": null,
   "metadata": {
    "colab": {
     "base_uri": "https://localhost:8080/",
     "height": 388
    },
    "id": "1Ugj-zNPUdST",
    "outputId": "65ba501c-f2a4-45e2-c98f-b6be43776c07"
   },
   "outputs": [],
   "source": [
    "gmm_labels_geomorphic = reef.gmm_mosaic(reef_mosaic_geomorphic,7,'full')\n",
    "reef.show_cluster_output(gmm_labels_geomorphic,reef_mosaic_geomorphic)"
   ]
  },
  {
   "cell_type": "markdown",
   "metadata": {},
   "source": [
    "### Hierarchichal agglomerative clustering result"
   ]
  },
  {
   "cell_type": "code",
   "execution_count": null,
   "metadata": {
    "colab": {
     "base_uri": "https://localhost:8080/",
     "height": 387
    },
    "id": "n-ErQMOEUdST",
    "outputId": "0622bddf-fd34-4b30-9b20-62ad8c0c7b96"
   },
   "outputs": [],
   "source": [
    "hac_labels,mosaic_hac = reef.hac_mosaic(reef_mosaic_geomorphic,7)\n",
    "reef.show_cluster_output(hac_labels,mosaic_hac)"
   ]
  },
  {
   "cell_type": "markdown",
   "metadata": {
    "id": "dMCPe0cPsGIA"
   },
   "source": [
    "## Visual comparision with existing maps \n",
    "\n",
    "Gaussian Mixture model example\n"
   ]
  },
  {
   "cell_type": "code",
   "execution_count": null,
   "metadata": {
    "colab": {
     "base_uri": "https://localhost:8080/",
     "height": 420
    },
    "id": "iIy180DasMe-",
    "outputId": "64224371-45e1-4b48-f855-2a6d6f6a34da"
   },
   "outputs": [],
   "source": [
    "# 1. Benthic Map\n",
    "\n",
    "label_to_color = {\n",
    "    0: [202, 210, 212],  # sea - gray\n",
    "    1: [255, 255, 191],  # sand - light yellow\n",
    "    2: [180, 155, 58],  # rock - brown\n",
    "    3: [255, 255, 191],  #\n",
    "\n",
    "}\n",
    "labels = {0:'ocean',1:'sand',2:'rock/rubble',3:'misc'}\n",
    "\n",
    "height, width,_ = reef_mosaic_benthic.shape\n",
    "gmm_labels_benthic_reshaped = gmm_labels_benthic.reshape(reef_mosaic_benthic[:, :, 0].shape)\n",
    "refined_gmm_benthic_map = np.zeros((height, width, 3), dtype=np.uint8)\n",
    "\n",
    "for gray, rgb in label_to_color.items():\n",
    "    refined_gmm_benthic_map[gmm_labels_benthic_reshaped == gray, :] = rgb\n",
    "\n",
    "# Visualising\n",
    "reef.show_image(refined_gmm_benthic_map)"
   ]
  },
  {
   "cell_type": "code",
   "execution_count": null,
   "metadata": {
    "colab": {
     "base_uri": "https://localhost:8080/",
     "height": 388
    },
    "id": "GMTxZZXQvW9F",
    "outputId": "1342e98c-9afe-4b38-8cf7-76786244d583"
   },
   "outputs": [],
   "source": [
    "#2. Geomorphic Map\n",
    "label_to_color = {\n",
    "    \n",
    "    0: [146,115,157],  #  purple [146, 115, 157] - reef flat\n",
    "    1: [202,210,212],  #  ocean [202, 210, 212] - ocean\n",
    "    2: [20,186,164],  \n",
    "    3: [202,210,212],  #  green [20, 186, 164]   - reef slope \n",
    "    4: [202,210,212],\n",
    "    5: [171,219,227],  #  light blue [171,219,227] - plateau/lagoon    \n",
    "    6: [202,210,212],  \n",
    "\n",
    "}\n",
    "\n",
    "height, width,_ = reef_mosaic_geomorphic.shape\n",
    "gmm_labels_geomorphic_reshaped = gmm_labels_geomorphic.reshape(reef_mosaic_geomorphic[:, :, 0].shape)\n",
    "refined_gmm_geomorphic_map = np.zeros((height, width, 3), dtype=np.uint8)\n",
    "\n",
    "for gray, rgb in label_to_color.items():\n",
    "    refined_gmm_geomorphic_map[gmm_labels_geomorphic_reshaped == gray, :] = rgb\n",
    "\n",
    "# Visualising\n",
    "reef.show_image(refined_gmm_geomorphic_map)"
   ]
  },
  {
   "cell_type": "code",
   "execution_count": null,
   "metadata": {
    "colab": {
     "base_uri": "https://localhost:8080/",
     "height": 598
    },
    "id": "_Pxf6_LbyN4G",
    "outputId": "75bfbdb4-4e5b-47b9-b219-afb8d039e062"
   },
   "outputs": [],
   "source": [
    "import imageio as iio\n",
    "\n",
    "allen_coral_atlas_benthic_map = iio.v2.imread('data/benthic_map_legend.JPG')\n",
    "allen_coral_atlas_geomorphic_map = iio.v2.imread('data/geomorphic_map_legend.JPG')\n",
    "\n",
    "f, axarr = plt.subplots(nrows=2, ncols=2,figsize=(12,12))\n",
    "\n",
    "axarr[0,0].imshow(allen_coral_atlas_benthic_map)\n",
    "axarr[0,1].imshow(refined_gmm_benthic_map)\n",
    "axarr[1,0].imshow(allen_coral_atlas_geomorphic_map)\n",
    "axarr[1,1].imshow(refined_gmm_geomorphic_map)"
   ]
  },
  {
   "cell_type": "code",
   "execution_count": null,
   "metadata": {},
   "outputs": [],
   "source": []
  }
 ],
 "metadata": {
  "colab": {
   "collapsed_sections": [],
   "name": "reef_insight_notebook.ipynb",
   "provenance": []
  },
  "kernelspec": {
   "display_name": "Python 3 (ipykernel)",
   "language": "python",
   "name": "python3"
  },
  "language_info": {
   "codemirror_mode": {
    "name": "ipython",
    "version": 3
   },
   "file_extension": ".py",
   "mimetype": "text/x-python",
   "name": "python",
   "nbconvert_exporter": "python",
   "pygments_lexer": "ipython3",
   "version": "3.8.15"
  }
 },
 "nbformat": 4,
 "nbformat_minor": 1
}
