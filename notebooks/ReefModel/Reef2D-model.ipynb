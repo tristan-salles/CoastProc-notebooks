{
 "cells": [
  {
   "cell_type": "code",
   "execution_count": null,
   "id": "aeac55de",
   "metadata": {},
   "outputs": [],
   "source": [
    "%config InlineBackend.figure_formats = ['svg']\n",
    "%matplotlib inline\n",
    "\n",
    "import numpy as np\n",
    "import pandas as pd\n",
    "import runReef as reef\n",
    "\n",
    "import cartopy.crs as ccrs\n",
    "import cartopy.feature as cfeature\n",
    "import matplotlib.pyplot as plt\n",
    "import matplotlib.colors as colors\n",
    "import matplotlib.patches as mpatches\n",
    "\n",
    "import matplotlib as mpl\n",
    "import matplotlib.pyplot as plt\n",
    "from mpl_toolkits.axes_grid1 import make_axes_locatable"
   ]
  },
  {
   "cell_type": "markdown",
   "id": "e3f0fbcb",
   "metadata": {},
   "source": [
    "# Present-day distribution of coral reefs in the tropics"
   ]
  },
  {
   "cell_type": "code",
   "execution_count": null,
   "id": "6c87564b",
   "metadata": {},
   "outputs": [],
   "source": [
    "coral = pd.read_csv(\"data/Coral.csv\",index_col='ID')\n",
    "coral.head(3)"
   ]
  },
  {
   "cell_type": "code",
   "execution_count": null,
   "id": "847b1b11",
   "metadata": {},
   "outputs": [],
   "source": [
    "lons = coral['LON'].values\n",
    "lats = coral['LAT'].values\n",
    "\n",
    "proj = ccrs.Mollweide(180)\n",
    "fig = plt.figure(figsize=(10,8))\n",
    "ax = plt.axes(projection=proj)\n",
    "ax.stock_img()\n",
    "ax.coastlines(linewidth=1)\n",
    "pts = ax.scatter(lons, lats, s=30, c='r',\n",
    "           edgecolor='black',alpha=0.75, transform=ccrs.PlateCarree())\n",
    "plt.show()\n",
    "fig.clear()\n",
    "plt.close(fig)"
   ]
  },
  {
   "cell_type": "markdown",
   "id": "446e751b",
   "metadata": {},
   "source": [
    "# Reef 2D\n",
    "\n",
    "The variety of coral reefs morphologies highlights their sensitivities to several forcings; fossil reefs stack in sequences that are accordingly diverse. In order to understand their genesis and architectures, we will use a numerical approach, accounting for sea level oscillations, vertical land motion, initial slope, wave erosion, and reef growth.\n",
    "\n",
    "**We will explore the formation of coral reef in 2D under different sea-level and tectonic forcing conditions.**\n",
    "\n",
    "> Husson, L., Pastier, A.-M., Pedoja, K., Elliot, M., Paillard, D., Authemayou, C., et al. (2018). Reef carbonate productivity during Quaternary sea level oscillations. Geochemistry, Geophysics, Geosystems, 19. https://doi.org/10.1002/2017GC007335\n",
    "\n",
    "<img src=\"imgs/reef2d.png\" alt=\"model\" width=\"700\"/>\n",
    "\n",
    "\n",
    "Model output after a 10-kyr simulation. Gray domain is the basement (initially having a linear surface), blue line is sea level, pink units are reef bodies, color-coded by age every 1 kyr. Shaded units are sedimentary layers. G, E, and S denote reef growth rate, erosion rate, and sedimentation rate, respectively. \n",
    "\n",
    "# Setting up the model\n",
    "\n",
    "The model requires several initial conditions that are listed below:"
   ]
  },
  {
   "cell_type": "code",
   "execution_count": null,
   "id": "61455c0c",
   "metadata": {},
   "outputs": [],
   "source": [
    "# RSL variations file\n",
    "rsl = 'stationary.dat' \n",
    "# Slope (%)\n",
    "slp = '10' \n",
    "# Maximum reef growth rate (mm/yr)\n",
    "rg = '18'\n",
    "# Maximum reef growth depth (m)\n",
    "rd = '30'\n",
    "# Optimal depth for vertical gradient (m)\n",
    "vg = '1' \n",
    "# Optimal depth for horizontal gradient (m)\n",
    "hg = '3' \n",
    "# Maximum depth for wave erosion (m)\n",
    "wd = '3'\n",
    "# Uplift rate (mm/yr)\n",
    "ur = '0.0'\n",
    "# Eroded volume (mm3/yr)\n",
    "ev = '100'\n",
    "# Temporal increment (yr)\n",
    "dt = '1000'\n",
    "# Reef construction or not ?\n",
    "rc = '.true.'\n",
    "# Wave erosion or not ?\n",
    "we = '.true.'\n",
    "\n",
    "lines = [rsl, slp, rg, rd, vg, hg, wd, ur, ev, dt, rc, we]\n",
    "with open('param0.dat', 'w') as f:\n",
    "    f.write('\\n'.join(lines))"
   ]
  },
  {
   "cell_type": "markdown",
   "id": "1320d807",
   "metadata": {},
   "source": [
    "## Fringing reef\n",
    "\n",
    "The most common type of reef is a **fringing reef**. They grow directly from land, creating a border along the shoreline.\n",
    "\n",
    "<img src=\"imgs/fringing.jpg\" alt=\"fringing\" width=\"500\"/>"
   ]
  },
  {
   "cell_type": "code",
   "execution_count": null,
   "id": "67858b29",
   "metadata": {},
   "outputs": [],
   "source": [
    "foutput = 'model'\n",
    "reef.runReefModel(foutput)\n",
    "outdata = reef.readReefOutput(foutput)\n",
    "reef.plotReef(outdata,zrange=[-52,20])"
   ]
  },
  {
   "cell_type": "markdown",
   "id": "2bb8e271",
   "metadata": {},
   "source": [
    "# Imposing a tectonic scenario\n",
    "\n",
    "## Barrier reef\n",
    "\n",
    "Although they also form parallel to the land, **barrier reefs** grow further out to sea and are separated from the shore by a lagoon.\n",
    "\n",
    "<img src=\"imgs/barrier.jpg\" alt=\"barrier\" width=\"700\"/>\n",
    "\n",
    "Let's assume the same input as before but this time with a subisdence rate of 1 mm/yr:"
   ]
  },
  {
   "cell_type": "code",
   "execution_count": null,
   "id": "699e722e",
   "metadata": {},
   "outputs": [],
   "source": [
    "# Uplift rate (mm/yr)\n",
    "ur = '-1.0'\n",
    "# Wave erosion or not ?\n",
    "we = '.false.'\n",
    "\n",
    "lines = [rsl, slp, rg, rd, vg, hg, wd, ur, ev, dt, rc, we]\n",
    "with open('param0.dat', 'w') as f:\n",
    "    f.write('\\n'.join(lines)) \n",
    "\n",
    "reef.runReefModel(foutput)\n",
    "outdata = reef.readReefOutput(foutput)\n",
    "reef.plotReef(outdata,zrange=[-52,15])"
   ]
  },
  {
   "cell_type": "markdown",
   "id": "57997501",
   "metadata": {},
   "source": [
    "## Impact of karstification and wave erosion\n",
    "\n",
    "We will now impose a uniform uplift and activate the wave erosion:"
   ]
  },
  {
   "cell_type": "code",
   "execution_count": null,
   "id": "a98b2712",
   "metadata": {},
   "outputs": [],
   "source": [
    "# Uplift rate (mm/yr)\n",
    "ur = '1.' \n",
    "# Wave erosion or not ?\n",
    "we = '.true.'\n",
    "\n",
    "lines = [rsl, slp, rg, rd, vg, hg, wd, ur, ev, dt, rc, we]\n",
    "with open('param0.dat', 'w') as f:\n",
    "    f.write('\\n'.join(lines)) \n",
    "reef.runReefModel(foutput)\n",
    "outdata = reef.readReefOutput(foutput)\n",
    "reef.plotReef(outdata,zrange=[-42,25])"
   ]
  },
  {
   "cell_type": "markdown",
   "id": "0f2d53ce",
   "metadata": {},
   "source": [
    "# Defining a simple sinusoidal sea-level curve\n",
    "\n",
    "Let's create a sea-level curve to test how it impacts coral reef evolution."
   ]
  },
  {
   "cell_type": "code",
   "execution_count": null,
   "id": "ee6014b0",
   "metadata": {},
   "outputs": [],
   "source": [
    "def makeSinSL(cyc,res,amp,slfile):\n",
    "    \n",
    "    # Number of sine cycles\n",
    "    cycles = cyc\n",
    "    # Time range (kyr)\n",
    "    resolution = res \n",
    "    # Sea level amplitude (m)\n",
    "    amplitude = amp\n",
    "\n",
    "    length = np.pi * 2 * cycles\n",
    "    my_wave = -np.sin(np.arange(0, length, length / resolution))*amplitude\n",
    "\n",
    "    data = {'time':np.flip(np.arange(resolution)),\n",
    "            'sea':my_wave\n",
    "            }\n",
    "    dfsl = pd.DataFrame(data)\n",
    "    dfsl.to_csv('data/sin.dat', index=False, sep=' ',header=False)\n",
    "    \n",
    "    fig, ax1 = plt.subplots(1,1,figsize=(6,2))\n",
    "    ax1.plot(-dfsl['time'], dfsl['sea'], '-', color='navy', zorder=3, lw=2)\n",
    "    ax1.set_ylabel('Sea-level (m)', fontsize=9, weight='bold')\n",
    "    ax1.set_xlabel('Time (kyr)', fontsize=9, weight='bold')\n",
    "    ax1.tick_params(axis=\"x\", labelsize=8)\n",
    "    ax1.tick_params(axis=\"y\", labelsize=8)\n",
    "    plt.show()\n",
    "\n",
    "    return \n",
    "\n",
    "makeSinSL(cyc=2,res=21,amp=5.,slfile='data/sin.dat')"
   ]
  },
  {
   "cell_type": "markdown",
   "id": "acb16faf",
   "metadata": {},
   "source": [
    "## Impact of sea-level of reef evolution\n",
    "\n",
    "We put back simular parameters as in the first example (no tectonics), but this time we impose the new sea-level curve:"
   ]
  },
  {
   "cell_type": "code",
   "execution_count": null,
   "id": "97dba72a",
   "metadata": {},
   "outputs": [],
   "source": [
    "# RSL variations file\n",
    "rsl = 'sin.dat' \n",
    "# Optimal depth for horizontal gradient (m)\n",
    "hg = '6'\n",
    "# Uplift rate (mm/yr)\n",
    "ur = '0.0'\n",
    "# Wave erosion or not ?\n",
    "we = '.false.'\n",
    "\n",
    "lines = [rsl, slp, rg, rd, vg, hg, wd, ur, ev, dt, rc, we]\n",
    "with open('param0.dat', 'w') as f:\n",
    "    f.write('\\n'.join(lines)) \n",
    "reef.runReefModel(foutput)\n",
    "outdata = reef.readReefOutput(foutput)\n",
    "reef.plotReef(outdata,zrange=[-52,15])"
   ]
  },
  {
   "cell_type": "markdown",
   "id": "89b09de3",
   "metadata": {},
   "source": [
    "## Combining tectonic and sea-level\n",
    "\n",
    "Adding a subsidence history with the sea-level fluctuations:"
   ]
  },
  {
   "cell_type": "code",
   "execution_count": null,
   "id": "a1e25cb6",
   "metadata": {},
   "outputs": [],
   "source": [
    "# Uplift rate (mm/yr)\n",
    "ur = '-1.0'\n",
    "# Wave erosion or not ?\n",
    "we = '.false.'\n",
    "\n",
    "lines = [rsl, slp, rg, rd, vg, hg, wd, ur, ev, dt, rc, we]\n",
    "with open('param0.dat', 'w') as f:\n",
    "    f.write('\\n'.join(lines)) \n",
    "reef.runReefModel(foutput)\n",
    "outdata = reef.readReefOutput(foutput)\n",
    "reef.plotReef(outdata,zrange=[-52,15])"
   ]
  },
  {
   "cell_type": "markdown",
   "id": "6611e534",
   "metadata": {},
   "source": [
    "## Perched reef terraces\n",
    "\n",
    "> Pastier, A.-M., Husson, L., Pedoja, K., Bézos, A., Authemayou, C., Arias-Ruiz, C., & Cahyarini, S. Y. (2019).Genesis and architecture of sequences of Quaternary coral reef terraces: Insights from numerical models. Geochemistry, Geophysics, Geosystems, 20, 4248–4272. https://doi. org/10.1029/2019GC008239\n",
    "\n",
    "\n",
    "<img src=\"imgs/terraces.png\" alt=\"terraces\" width=\"800\"/>\n",
    "\n",
    "_(a) Sequences of emerged reef terraces, Sampolawa Bay, SE Sulawesi (Fortuin et al., 1990; Pedoja et al., 2018). White dashed lines delineate uplifted terraces. (b) Close-up showing nested narrow terraces and fossil notches. The active notch is carving a retrograding cliff in earlier reefal units, which progressively erases earlier sea level markers. The erratic block in the forefront witnesses this retrogradation, while the preservation of fossil notches attests for moderate marine erosion._"
   ]
  },
  {
   "cell_type": "code",
   "execution_count": null,
   "id": "ef44bdb8",
   "metadata": {},
   "outputs": [],
   "source": [
    "proj2 = ccrs.Mercator()\n",
    "fig = plt.figure(figsize=(8,6))\n",
    "ax = plt.axes(projection=proj2)\n",
    "ax.coastlines(linewidth=1)\n",
    "pts = ax.scatter(lons, lats, s=30, c='r',\n",
    "           edgecolor='black',alpha=0.75, transform=ccrs.PlateCarree())\n",
    "ax.set_extent([85, 140, -20, 20], crs=ccrs.PlateCarree())\n",
    "ax.add_feature(cfeature.LAND)\n",
    "ax.add_feature(cfeature.COASTLINE)\n",
    "ax.add_feature(cfeature.OCEAN)\n",
    "plt.show()\n",
    "fig.clear()\n",
    "plt.close(fig)"
   ]
  },
  {
   "cell_type": "markdown",
   "id": "b2c72e6f",
   "metadata": {},
   "source": [
    "We will combine wave erosion, uplift and sealevel change:"
   ]
  },
  {
   "cell_type": "code",
   "execution_count": null,
   "id": "12ba6e50",
   "metadata": {},
   "outputs": [],
   "source": [
    "# Uplift rate (mm/yr)\n",
    "ur = '1.0'\n",
    "# Wave erosion or not ?\n",
    "we = '.true.'\n",
    "\n",
    "lines = [rsl, slp, rg, rd, vg, hg, wd, ur, ev, dt, rc, we]\n",
    "with open('param0.dat', 'w') as f:\n",
    "    f.write('\\n'.join(lines)) \n",
    "reef.runReefModel(foutput)\n",
    "outdata = reef.readReefOutput(foutput)\n",
    "reef.plotReef(outdata,zrange=[-52,35])"
   ]
  },
  {
   "cell_type": "code",
   "execution_count": null,
   "id": "3fdf3d19",
   "metadata": {},
   "outputs": [],
   "source": []
  },
  {
   "cell_type": "code",
   "execution_count": null,
   "id": "d40a6d83",
   "metadata": {},
   "outputs": [],
   "source": []
  }
 ],
 "metadata": {
  "kernelspec": {
   "display_name": "Python 3 (ipykernel)",
   "language": "python",
   "name": "python3"
  },
  "language_info": {
   "codemirror_mode": {
    "name": "ipython",
    "version": 3
   },
   "file_extension": ".py",
   "mimetype": "text/x-python",
   "name": "python",
   "nbconvert_exporter": "python",
   "pygments_lexer": "ipython3",
   "version": "3.8.15"
  }
 },
 "nbformat": 4,
 "nbformat_minor": 5
}
