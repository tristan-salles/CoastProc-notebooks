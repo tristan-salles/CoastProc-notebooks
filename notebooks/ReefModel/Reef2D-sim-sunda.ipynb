{
 "cells": [
  {
   "cell_type": "code",
   "execution_count": null,
   "id": "3e48f873",
   "metadata": {},
   "outputs": [],
   "source": [
    "import runReef as reef\n",
    "%config InlineBackend.figure_formats = ['svg']\n",
    "%matplotlib inline"
   ]
  },
  {
   "cell_type": "markdown",
   "id": "bce05d75",
   "metadata": {},
   "source": [
    "Initial parameters are defined in the file **param0.dat**.\n",
    "\n",
    "**Parameter file for model no tectonic :** \n",
    "\n",
    "```bash\n",
    "bintanja2008_2.dat ! RSL variations file\n",
    "02 ! Slope (%)\n",
    "12 ! Maximum reef growth rate (mm/yr)\n",
    "50 ! Maximum reef growth depth (m)\n",
    "1 ! Optimal depth for vertical gradient (m)\n",
    "2 ! Optimal depth for horizontal gradient (m)\n",
    "2 ! Maximum depth for wave erosion (m)\n",
    "0.0 ! Uplift rate (mm/yr)\n",
    "30 ! Eroded volume (mm3/yr)\n",
    "10000 ! Temporal increment (yr)\n",
    ".true. ! Reef construction or not ?\n",
    ".true. ! Wave erosion or not ?\n",
    "```\n",
    "\n",
    "**Parameter file for model subsidence low :** \n",
    "\n",
    "```bash\n",
    "bintanja2008_2.dat ! RSL variations file\n",
    "02 ! Slope (%)\n",
    "10 ! Maximum reef growth rate (mm/yr)\n",
    "20 ! Maximum reef growth depth (m)\n",
    "1 ! Optimal depth for vertical gradient (m)\n",
    "2 ! Optimal depth for horizontal gradient (m)\n",
    "2 ! Maximum depth for wave erosion (m)\n",
    "-0.25 ! Uplift rate (mm/yr)\n",
    "30 ! Eroded volume (mm3/yr)\n",
    "10000 ! Temporal increment (yr)\n",
    ".true. ! Reef construction or not ?\n",
    ".false. ! Wave erosion or not ?\n",
    "```\n",
    "\n",
    "**Parameter file for model subsidence high :** \n",
    "\n",
    "```bash\n",
    "bintanja2008_2.dat ! RSL variations file\n",
    "02 ! Slope (%)\n",
    "10 ! Maximum reef growth rate (mm/yr)\n",
    "20 ! Maximum reef growth depth (m)\n",
    "1 ! Optimal depth for vertical gradient (m)\n",
    "2 ! Optimal depth for horizontal gradient (m)\n",
    "2 ! Maximum depth for wave erosion (m)\n",
    "-0.7 ! Uplift rate (mm/yr)\n",
    "30 ! Eroded volume (mm3/yr)\n",
    "10000 ! Temporal increment (yr)\n",
    ".true. ! Reef construction or not ?\n",
    ".false. ! Wave erosion or not ?\n",
    "```\n",
    "\n",
    "**Parameter file for model uplift:** \n",
    "\n",
    "```bash\n",
    "bintanja2008_2.dat ! RSL variations file\n",
    "02 ! Slope (%)\n",
    "10 ! Maximum reef growth rate (mm/yr)\n",
    "20 ! Maximum reef growth depth (m)\n",
    "1 ! Optimal depth for vertical gradient (m)\n",
    "2 ! Optimal depth for horizontal gradient (m)\n",
    "2 ! Maximum depth for wave erosion (m)\n",
    "0.4 ! Uplift rate (mm/yr)\n",
    "30 ! Eroded volume (mm3/yr)\n",
    "10000 ! Temporal increment (yr)\n",
    ".true. ! Reef construction or not ?\n",
    ".false. ! Wave erosion or not ?\n",
    "```"
   ]
  },
  {
   "cell_type": "markdown",
   "id": "2db8644e",
   "metadata": {},
   "source": [
    "### Run the model"
   ]
  },
  {
   "cell_type": "code",
   "execution_count": null,
   "id": "655ebe02",
   "metadata": {},
   "outputs": [],
   "source": [
    "foutput = 'sunda2'\n",
    "reef.runReefModel(foutput)"
   ]
  },
  {
   "cell_type": "markdown",
   "id": "92d4cb73",
   "metadata": {},
   "source": [
    "### Extract the output"
   ]
  },
  {
   "cell_type": "code",
   "execution_count": null,
   "id": "909eafbf",
   "metadata": {},
   "outputs": [],
   "source": [
    "foutput = 'sunda2'\n",
    "outdata = reef.readReefOutput(foutput)"
   ]
  },
  {
   "cell_type": "markdown",
   "id": "5318ee56",
   "metadata": {},
   "source": [
    "### Analyse the results"
   ]
  },
  {
   "cell_type": "code",
   "execution_count": null,
   "id": "b34f01d8",
   "metadata": {},
   "outputs": [],
   "source": [
    "# Model baseline\n",
    "reef.plotFig(430,foutput+'/step', outdata, ylim=[-250,50], textpos=[-6500,15], view=True)"
   ]
  },
  {
   "cell_type": "code",
   "execution_count": null,
   "id": "b638bc76",
   "metadata": {},
   "outputs": [],
   "source": [
    "# Model baseline\n",
    "#reef.makeMovie(foutput+'/step', outdata, step=10, ylim=[-300,50], textpos=[-3500,35])"
   ]
  },
  {
   "cell_type": "code",
   "execution_count": null,
   "id": "47d5d9aa",
   "metadata": {},
   "outputs": [],
   "source": []
  },
  {
   "cell_type": "code",
   "execution_count": null,
   "id": "040b017c",
   "metadata": {},
   "outputs": [],
   "source": []
  },
  {
   "cell_type": "code",
   "execution_count": null,
   "id": "c2474815",
   "metadata": {},
   "outputs": [],
   "source": []
  },
  {
   "cell_type": "code",
   "execution_count": null,
   "id": "dd90adb1",
   "metadata": {},
   "outputs": [],
   "source": []
  }
 ],
 "metadata": {
  "kernelspec": {
   "display_name": "Python 3 (ipykernel)",
   "language": "python",
   "name": "python3"
  },
  "language_info": {
   "codemirror_mode": {
    "name": "ipython",
    "version": 3
   },
   "file_extension": ".py",
   "mimetype": "text/x-python",
   "name": "python",
   "nbconvert_exporter": "python",
   "pygments_lexer": "ipython3",
   "version": "3.8.15"
  }
 },
 "nbformat": 4,
 "nbformat_minor": 5
}
