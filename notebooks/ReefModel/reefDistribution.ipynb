{
 "cells": [
  {
   "cell_type": "code",
   "execution_count": null,
   "id": "7ab8a46b",
   "metadata": {},
   "outputs": [],
   "source": [
    "from mpl_toolkits.basemap import Basemap\n",
    "import matplotlib.pyplot as plt\n",
    "import numpy as np\n",
    "import pandas as pd"
   ]
  },
  {
   "cell_type": "code",
   "execution_count": null,
   "id": "04e73714",
   "metadata": {},
   "outputs": [],
   "source": [
    "coral = pd.read_csv(\"data/Coral.csv\",index_col='ID')"
   ]
  },
  {
   "cell_type": "code",
   "execution_count": null,
   "id": "23eb87b6",
   "metadata": {},
   "outputs": [],
   "source": [
    "coral.head()"
   ]
  },
  {
   "cell_type": "code",
   "execution_count": null,
   "id": "cc3fa0ad",
   "metadata": {},
   "outputs": [],
   "source": []
  },
  {
   "cell_type": "code",
   "execution_count": null,
   "id": "dff2fc1c",
   "metadata": {},
   "outputs": [],
   "source": [
    "plt.figure(figsize=(16,12))\n",
    "\n",
    "eq_map = Basemap(projection='robin', resolution = 'l', area_thresh = 1000.0,\n",
    "              lat_0=0, lon_0=-130)\n",
    "eq_map.drawcoastlines()\n",
    "eq_map.drawcountries()\n",
    "eq_map.fillcontinents(color = 'gray')\n",
    "eq_map.drawmapboundary()\n",
    "eq_map.drawmeridians(np.arange(0, 360, 30))\n",
    "eq_map.drawparallels(np.arange(-90, 90, 30))\n",
    "\n",
    "\n",
    "\n",
    "x,y = eq_map(coral['LON'], coral['LAT'])\n",
    "eq_map.scatter(x, y, c='r', s=30, edgecolors='k', lw=1)\n",
    "\n",
    "plt.show()"
   ]
  },
  {
   "cell_type": "code",
   "execution_count": null,
   "id": "0e760de8",
   "metadata": {},
   "outputs": [],
   "source": [
    "plt.figure(figsize=(16,12))\n",
    "\n",
    "my_map = Basemap(projection='merc', lat_0 = -2.5, lon_0 = 125,\n",
    "    resolution = 'l', area_thresh = 0.1,\n",
    "    llcrnrlon=85, llcrnrlat=-20,\n",
    "    urcrnrlon=140, urcrnrlat=20)\n",
    "\n",
    "my_map.drawcoastlines()\n",
    "my_map.drawcountries()\n",
    "my_map.fillcontinents(color = 'gray')\n",
    "my_map.drawmapboundary()\n",
    "x_sea,y_sea = my_map(coral['LON'], coral['LAT'])\n",
    "my_map.scatter(x_sea, y_sea, c='r', s=50, edgecolors='k', lw=1)\n",
    "plt.show()"
   ]
  },
  {
   "cell_type": "code",
   "execution_count": null,
   "id": "f939318c",
   "metadata": {},
   "outputs": [],
   "source": []
  },
  {
   "cell_type": "code",
   "execution_count": null,
   "id": "8e713016",
   "metadata": {},
   "outputs": [],
   "source": []
  }
 ],
 "metadata": {
  "kernelspec": {
   "display_name": "Python 3 (ipykernel)",
   "language": "python",
   "name": "python3"
  },
  "language_info": {
   "codemirror_mode": {
    "name": "ipython",
    "version": 3
   },
   "file_extension": ".py",
   "mimetype": "text/x-python",
   "name": "python",
   "nbconvert_exporter": "python",
   "pygments_lexer": "ipython3",
   "version": "3.8.15"
  }
 },
 "nbformat": 4,
 "nbformat_minor": 5
}
