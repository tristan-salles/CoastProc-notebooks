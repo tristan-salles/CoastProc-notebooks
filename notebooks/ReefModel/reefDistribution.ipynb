{
 "cells": [
  {
   "cell_type": "code",
   "execution_count": null,
   "id": "7ab8a46b",
   "metadata": {},
   "outputs": [],
   "source": [
    "import pandas as pd\n",
    "import numpy as np\n",
    "\n",
    "import cmocean\n",
    "\n",
    "import cartopy.crs as ccrs\n",
    "import cartopy.feature as cfeature\n",
    "import matplotlib.pyplot as plt\n",
    "import matplotlib.colors as colors\n",
    "import matplotlib.patches as mpatches\n",
    "\n",
    "import warnings\n",
    "warnings.filterwarnings(\"ignore\", category=RuntimeWarning) \n",
    "warnings.filterwarnings('ignore', category=FutureWarning) \n",
    "warnings.filterwarnings('ignore', category=UserWarning)\n",
    "\n",
    "%matplotlib inline\n",
    "%config InlineBackend.figure_format = 'svg'\n",
    "plt.rcParams['mathtext.fontset'] = 'cm'"
   ]
  },
  {
   "cell_type": "code",
   "execution_count": null,
   "id": "04e73714",
   "metadata": {},
   "outputs": [],
   "source": [
    "coral = pd.read_csv(\"data/Coral.csv\",index_col='ID')"
   ]
  },
  {
   "cell_type": "code",
   "execution_count": null,
   "id": "23eb87b6",
   "metadata": {},
   "outputs": [],
   "source": [
    "coral.head()"
   ]
  },
  {
   "cell_type": "code",
   "execution_count": null,
   "id": "ef88ba6d",
   "metadata": {},
   "outputs": [],
   "source": [
    "lons = coral['LON'].values\n",
    "lats = coral['LAT'].values"
   ]
  },
  {
   "cell_type": "code",
   "execution_count": null,
   "id": "cc3fa0ad",
   "metadata": {},
   "outputs": [],
   "source": [
    "proj = ccrs.Mollweide(180)\n",
    "fig = plt.figure(figsize=(10,8))\n",
    "ax = plt.axes(projection=proj)\n",
    "ax.stock_img()\n",
    "ax.coastlines(linewidth=1)\n",
    "pts = ax.scatter(lons, lats, s=30, c='r',\n",
    "           edgecolor='black',alpha=0.75, transform=ccrs.PlateCarree())\n",
    "plt.show()\n",
    "fig.clear()\n",
    "plt.close(fig)"
   ]
  },
  {
   "cell_type": "code",
   "execution_count": null,
   "id": "5b99be7b",
   "metadata": {},
   "outputs": [],
   "source": []
  },
  {
   "cell_type": "code",
   "execution_count": null,
   "id": "b0886ad8",
   "metadata": {},
   "outputs": [],
   "source": [
    "proj2 = ccrs.Mercator()\n",
    "fig = plt.figure(figsize=(8,6))\n",
    "ax = plt.axes(projection=proj2)\n",
    "ax.coastlines(linewidth=1)\n",
    "pts = ax.scatter(lons, lats, s=30, c='r',\n",
    "           edgecolor='black',alpha=0.75, transform=ccrs.PlateCarree())\n",
    "ax.set_extent([85, 140, -20, 20], crs=ccrs.PlateCarree())\n",
    "ax.add_feature(cfeature.LAND)\n",
    "ax.add_feature(cfeature.COASTLINE)\n",
    "ax.add_feature(cfeature.OCEAN)\n",
    "plt.show()\n",
    "fig.clear()\n",
    "plt.close(fig)"
   ]
  },
  {
   "cell_type": "code",
   "execution_count": null,
   "id": "238ac729",
   "metadata": {},
   "outputs": [],
   "source": []
  }
 ],
 "metadata": {
  "kernelspec": {
   "display_name": "Python 3 (ipykernel)",
   "language": "python",
   "name": "python3"
  },
  "language_info": {
   "codemirror_mode": {
    "name": "ipython",
    "version": 3
   },
   "file_extension": ".py",
   "mimetype": "text/x-python",
   "name": "python",
   "nbconvert_exporter": "python",
   "pygments_lexer": "ipython3",
   "version": "3.8.15"
  }
 },
 "nbformat": 4,
 "nbformat_minor": 5
}
