{
 "cells": [
  {
   "cell_type": "markdown",
   "metadata": {},
   "source": [
    "# Australian Ocean Surface Wave Measurements from SAR"
   ]
  },
  {
   "cell_type": "markdown",
   "metadata": {},
   "source": [
    "Authors: Salman Khan and Emilio Echevarria\n",
    "\n",
    "### Table of contents:\n",
    "- About Sentinel-1  Ocean Surface Wave Measurements\n",
    "- Required Python packages and utility functions\n",
    "- Read a daily along-track netCDF file and visualise selected measurements off Albany, WA on a map\n",
    "- Plot some auxialliary variables as the satellite measures along-track\n",
    "- Convert directional wavenumber spectra to frequency spectra using deep water assumptions\n",
    "- Plot some wave statistics derived from directional frequency spectra\n",
    "- Visualise directional frequency spectra: (i) one, (ii) all 2D, and (iii) all 1D\n",
    "- Visualise directional frequency spectra swell partitions: (i) one, (ii) all\n",
    "- Plot some primary swell partitions wave statistics"
   ]
  },
  {
   "cell_type": "markdown",
   "metadata": {},
   "source": [
    "### About Sentinel-1 Ocean Surface Wave Measurements\n",
    "Sentinel-1 A and B satellites, part of Europe’s Copernicus programme, were launched in April 2014 and 2016, respectively. The satellites fly in the same polar orbital plane, but 180° out of orbital phase, and offer a 6-day repeat cycle at the equator and more frequently at higher latitudes. Both satellites are equipped with identical C-band SAR instruments, which can measure the directional wind-wave spectra for wavelengths longer than ~150m in azimuth direction. In the open ocean, they operate in wave mode (WV), measuring alternately in near-range with an incidence angle of ~23.5° (WV1) and far-range with an incidence angle of ~36.5° (WV2), and acquire 20 km x 20 km vignettes every 100 km along-track. Since they alternate between WV1 and WV2, consecutive vignettes for each incidence angle are 200 km apart. The transmit-receive electromagnetic polarisation pair of choice in wave mode is VV, but some experimental HH data have also been acquired.\n",
    "\n",
    "This dataset contains Sentinel-1 A and B SAR measurements over the Australasian region. The data is accesible through the AODN portal (https://portal.aodn.org.au/), or http://thredds.aodn.org.au/thredds/catalog/IMOS/SRS/Surface-Waves/SAR/catalog.html\n",
    "\n",
    "The amount of data for each sattelite (A and B) for different wave modes (WV1 and WV2) and orbit's direction (ascending or descending passes), allocated in 2.5°x2.5° bins:"
   ]
  },
  {
   "cell_type": "code",
   "execution_count": null,
   "metadata": {},
   "outputs": [],
   "source": [
    "import os\n",
    "import sys\n",
    "import warnings\n",
    "\n",
    "import cartopy.crs as ccrs\n",
    "import matplotlib.pyplot as plt\n",
    "import numpy as np\n",
    "from wavespectra import SpecArray\n",
    "import xarray as xr\n",
    "\n",
    "from utilfuncs import k2f, ek2f, s1_compute_efth, cmap_wavespectra, plot_part\n",
    "\n",
    "warnings.filterwarnings('ignore')\n",
    "\n",
    "%matplotlib inline\n",
    "%config InlineBackend.figure_format = 'svg'\n",
    "plt.rcParams['mathtext.fontset'] = 'cm'"
   ]
  },
  {
   "cell_type": "markdown",
   "metadata": {},
   "source": [
    "### Read a daily along-track netCDF file and visualise selected measurements off Albany, WA on a map"
   ]
  },
  {
   "cell_type": "code",
   "execution_count": null,
   "metadata": {},
   "outputs": [],
   "source": [
    "# read and select measurements near South Australia\n",
    "\n",
    "dset_s1 = xr.open_dataset('https://thredds.aodn.org.au/thredds/dodsC/IMOS/SRS/Surface-Waves/SAR/REALTIME/SENTINEL-1A/2023/03/IMOS_SRS-Surface-Waves_W_20230301T042149Z_Sentinel-1A_FV00_K2_END-20230301T092505Z.nc',\n",
    "                        decode_times =  True, decode_cf = True, mask_and_scale =  True)\n",
    "    \n",
    "# dset_s1 = xr.open_dataset('http://thredds.aodn.org.au/thredds/dodsC/IMOS/SRS/Surface-Waves/SAR/DELAYED/SENTINEL-1A/2019/08/IMOS_SRS-Surface-Waves_W_20190801T040752Z_Sentinel-1A_FV01_DM00_K2_END-20190801T220024Z.nc',\n",
    "#                         decode_times =  True, decode_cf = True, mask_and_scale =  True)\n",
    "dset_WA = dset_s1.isel(TIME = slice(149,159)) #(384, 404))\n",
    "\n",
    "# plot measurement locations\n",
    "fig = plt.figure(figsize = (10, 5), dpi = 100)\n",
    "ax = plt.axes(projection = ccrs.PlateCarree(central_longitude = 195))\n",
    "ax.coastlines()\n",
    "ax.plot(dset_s1.LONGITUDE, dset_s1.LATITUDE, '.', \n",
    "        transform = ccrs.PlateCarree(), markersize = 1)\n",
    "\n",
    "ax.plot(dset_WA.LONGITUDE, dset_WA.LATITUDE,\n",
    "        'r.', transform = ccrs.PlateCarree(), markersize = 2)\n",
    "plt.show()"
   ]
  },
  {
   "cell_type": "markdown",
   "metadata": {},
   "source": [
    "### Plot some auxialliary variables as the satellite measures along-track\n",
    "- satellite heading\n",
    "- incidence angle\n",
    "- distance to coast, and \n",
    "- depth "
   ]
  },
  {
   "cell_type": "code",
   "execution_count": null,
   "metadata": {},
   "outputs": [],
   "source": [
    "dset_WA"
   ]
  },
  {
   "cell_type": "code",
   "execution_count": null,
   "metadata": {},
   "outputs": [],
   "source": [
    "fig = plt.figure(figsize = (7.5, 3))\n",
    "ax = plt.subplot(111)\n",
    "dset_WA.HEADING.plot(ax = ax, lw=2, c='r')\n",
    "plt.title('Heading') \n",
    "plt.grid(linestyle = 'dashed')\n",
    "\n",
    "fig = plt.figure(figsize = (7.5, 3))\n",
    "ax = plt.subplot(111)\n",
    "dset_WA.INC_ANGLE.plot(ax = ax, lw=2, c='b')\n",
    "plt.title('Incidence Angle') \n",
    "plt.grid(linestyle = 'dashed')\n",
    "\n",
    "fig = plt.figure(figsize = (7.5, 3))\n",
    "ax = plt.subplot(111)\n",
    "dset_WA.DIST2COAST.plot(ax = ax, lw=2, c='k')\n",
    "plt.title('Distance to coast')\n",
    "plt.grid(linestyle = 'dashed')\n",
    "\n",
    "fig = plt.figure(figsize = (7.5, 3))\n",
    "ax = plt.subplot(111)\n",
    "dset_WA.BOT_DEPTH.plot(ax = ax, lw=2, c='g')\n",
    "plt.title('Depth')\n",
    "plt.grid(linestyle = 'dashed')"
   ]
  },
  {
   "cell_type": "markdown",
   "metadata": {},
   "source": [
    "### Convert directional wavenumber spectra to frequency spectra using deep water assumptions:\n",
    "efth - spectral variance density \n",
    "- units m2.s.deg-1"
   ]
  },
  {
   "cell_type": "code",
   "execution_count": null,
   "metadata": {},
   "outputs": [],
   "source": [
    "# compute efth\n",
    "dset_WA_ws = dset_WA.assign(efth = s1_compute_efth(dset_WA))"
   ]
  },
  {
   "cell_type": "markdown",
   "metadata": {},
   "source": [
    "### Plot some wave statistics derived from directional frequency spectra:\n",
    "- swell significant height\n",
    "- mean period - Tm02\n",
    "- mean wave direction\n",
    "\n",
    "A directional wave spectrum describes how the wave energy (more specifically, the variance spectral density) is distributed over frequencies (or wavenumbers) and directions. For a detailed description of wave spectra, its uses and applications, and the transformations from wavenumber to frequency spectra, see: Holthuijsen, L. (2007). Waves in Oceanic and Coastal Waters. Cambridge: Cambridge University Press. https://doi.org/10.1017/CBO9780511618536\n",
    "\n",
    "It is very common to describe the wave climate with integrated (also called bulk) wave parameters, instead of with a directional wave spectra. These parameters represent average conditions of the wave climate. "
   ]
  },
  {
   "cell_type": "code",
   "execution_count": null,
   "metadata": {},
   "outputs": [],
   "source": [
    "# plot stats\n",
    "# hs\n",
    "fig = plt.figure(figsize = (7.5, 3))\n",
    "ax = plt.subplot(111)\n",
    "dset_WA_ws.spec.hs(tail = True).plot(ax = ax)\n",
    "plt.title('Swell significant wave height')\n",
    "plt.grid(linestyle = 'dashed')\n",
    "\n",
    "# tm02\n",
    "fig = plt.figure(figsize = (7.5, 3))\n",
    "ax = plt.subplot(111)\n",
    "dset_WA_ws.spec.tm02().plot(ax = ax)\n",
    "plt.title('Mean period - Tm02')\n",
    "plt.grid(linestyle = 'dashed')\n",
    "\n",
    "# dm\n",
    "fig = plt.figure(figsize = (7.5, 3))\n",
    "ax = plt.subplot(111)\n",
    "dset_WA_ws.spec.dm().plot(ax = ax)\n",
    "plt.ylabel('Mean wave to direction $(^\\circ)$')\n",
    "plt.title('Mean wave direction')\n",
    "plt.grid(linestyle = 'dashed')\n",
    "plt.show()"
   ]
  },
  {
   "cell_type": "markdown",
   "metadata": {},
   "source": [
    "### Visualise directional frequency spectra:\n",
    "- 1st directional spectra\n",
    "- all directional spectra\n",
    "- all omni-directional spectra"
   ]
  },
  {
   "cell_type": "code",
   "execution_count": null,
   "metadata": {},
   "outputs": [],
   "source": [
    "# Plot 1st directional spectra\n",
    "fig = plt.figure(figsize = (7.5,7.5))\n",
    "cmap = cmap_wavespectra(n = 64)\n",
    "qcs = (dset_WA_ws\n",
    "       .isel(time = 0)\n",
    "       .spec\n",
    "       .plot\n",
    "       (kind='contourf',cmap = cmap,\n",
    "                 as_period = True, \n",
    "                 as_log10 = False, \n",
    "                 show_direction_label = True,\n",
    "                 levels = cmap.N,\n",
    "#                  figsize = (7.5, 7.5),\n",
    "                 robuts = True))\n",
    "\n",
    "angle_labels = ['N', 'NE', 'E', 'SE', 'S', 'SW', '','NW']\n",
    "# qcs.ax.set_rlabel_position(180 + 45)\n",
    "# qcs.ax.set_thetagrids(angles = range(0, 360, 45),\n",
    "#                       labels = angle_labels)\n",
    "# qcs.ax.set_title('Variance density [$m^2 s deg{-1}$]')\n",
    "plt.show()"
   ]
  },
  {
   "cell_type": "code",
   "execution_count": null,
   "metadata": {},
   "outputs": [],
   "source": [
    "## Plot all directional spectra\n",
    "ncols = 4\n",
    "fg = (dset_WA_ws\n",
    "      .efth\n",
    "      .spec\n",
    "      .plot\n",
    "      (kind='contourf', col = \"time\", col_wrap = ncols, cmap = cmap,\n",
    "                as_period = True, as_log10 = False, \n",
    "                show_direction_label = True, levels = cmap.N,\n",
    "                robuts = True, size = 3, aspect = 1))\n",
    "\n",
    "for i, ax in enumerate(fg.axes.flat):\n",
    "    ax.set_rlabel_position(180 + 45)\n",
    "    ax.set_thetagrids(angles = range(0, 360, 45),\n",
    "                      labels = angle_labels)\n",
    "fg.set_titles(pad = 15)\n",
    "fg.set_ylabels('Wave period [s]', labelpad = 20)\n",
    "fg.set_xlabels('Wave to direction [$^\\circ$]', labelpad = 0)\n",
    "fg.cbar.set_label('Variance density [$m^2 s deg{-1}$]', labelpad = 10)"
   ]
  },
  {
   "cell_type": "code",
   "execution_count": null,
   "metadata": {},
   "outputs": [],
   "source": [
    "# Plot all omni-directional spectra\n",
    "ncols = 4\n",
    "fg = dset_WA_ws.spec.oned().plot.line(col = 'time', col_wrap = ncols)\n",
    "fg.set_axis_labels('var. spec. density ($m^2s/deg$)')\n",
    "for i, ax in enumerate(fg.axes.flat):\n",
    "    ax.grid(True)"
   ]
  },
  {
   "cell_type": "markdown",
   "metadata": {},
   "source": [
    "## Visualise directional frequency spectra swell partitions:\n",
    "\n",
    "+ partitions of first directional spectrum\n",
    "+ partitions of all directional spectra"
   ]
  },
  {
   "cell_type": "code",
   "execution_count": null,
   "metadata": {},
   "outputs": [],
   "source": [
    "# plot partitions for 1st 2d spectrum\n",
    "fig = plot_part(dset_WA_ws.EKTH_PART.isel(TIME = 1))"
   ]
  },
  {
   "cell_type": "code",
   "execution_count": null,
   "metadata": {},
   "outputs": [],
   "source": [
    "# plot partitions for all 2d spectra\n",
    "fig = plot_part(dset_WA_ws.EKTH_PART)"
   ]
  },
  {
   "cell_type": "markdown",
   "metadata": {},
   "source": [
    "### Plot some primary swell wave statistics:"
   ]
  },
  {
   "cell_type": "code",
   "execution_count": null,
   "metadata": {},
   "outputs": [],
   "source": [
    "# plot primary swell stats\n",
    "# swell height\n",
    "fig = plt.figure(figsize = (7.5, 3))\n",
    "ax = plt.subplot(111)\n",
    "dset_WA_ws.HS_PART.isel(PARTITION = 0).plot()\n",
    "plt.title('Primary swell significant height') \n",
    "plt.grid(linestyle = 'dashed')\n",
    "\n",
    "# direction at spectral peak\n",
    "fig = plt.figure(figsize = (7.5, 3))\n",
    "ax = plt.subplot(111)\n",
    "dset_WA_ws.DP_PART.isel(PARTITION = 0).plot()\n",
    "plt.title('Primary swell peak direction') \n",
    "plt.grid(linestyle = 'dashed')\n",
    "\n",
    "# wavelength at spectral peak\n",
    "fig = plt.figure(figsize = (7.5, 3))\n",
    "ax = plt.subplot(111)\n",
    "dset_WA_ws.WP_PART.isel(PARTITION = 0).plot()\n",
    "plt.title('Primary swell peak wavelength') \n",
    "plt.grid(linestyle = 'dashed')"
   ]
  },
  {
   "cell_type": "code",
   "execution_count": null,
   "metadata": {},
   "outputs": [],
   "source": []
  }
 ],
 "metadata": {
  "kernelspec": {
   "display_name": "Python 3 (ipykernel)",
   "language": "python",
   "name": "python3"
  },
  "language_info": {
   "codemirror_mode": {
    "name": "ipython",
    "version": 3
   },
   "file_extension": ".py",
   "mimetype": "text/x-python",
   "name": "python",
   "nbconvert_exporter": "python",
   "pygments_lexer": "ipython3",
   "version": "3.8.15"
  }
 },
 "nbformat": 4,
 "nbformat_minor": 2
}
