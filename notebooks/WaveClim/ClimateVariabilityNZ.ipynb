{
 "cells": [
  {
   "cell_type": "markdown",
   "metadata": {},
   "source": [
    "# Climate variability\n",
    "\n",
    "\n",
    "This second notebook showcases similar functionalities as example 1 but in addition it illustrates how **RADWave** can be used to estimate the influence of climate trends on regional wave patterns.\n",
    "\n",
    "As in the previous notebook, we will be querying data already downloaded from the obtained from Australian Ocean Data Network portal [AODN](https://portal.aodn.org.au/). \n",
    "\n",
    "> We recomend to look at **RADWave** [documentation](https://radwave.readthedocs.io/en/latest/usage.html#getting-altimeter-values-from-data-providers) and the embeded video that explain how to select both a spatial bounding box and a temporal extent from the portal and how to export the file containing the `List of URLs`. This `TXT` file contains a list of `NETCDF` files for each available satellites. \n",
    "\n",
    "\n",
    "## Loading RADWave library and initialisation\n",
    "\n",
    "We first start by importing **RADwave** library into our working space."
   ]
  },
  {
   "cell_type": "code",
   "execution_count": null,
   "metadata": {},
   "outputs": [],
   "source": [
    "import io\n",
    "import scipy\n",
    "import requests\n",
    "import numpy as np \n",
    "import pandas as pd\n",
    "\n",
    "import RADWave as rwave\n",
    "\n",
    "import warnings\n",
    "warnings.filterwarnings(\"ignore\", category=RuntimeWarning) \n",
    "warnings.filterwarnings('ignore', category=FutureWarning) \n",
    "warnings.filterwarnings('ignore', category=UserWarning)\n",
    "\n",
    "%matplotlib inline\n",
    "%config InlineBackend.figure_format = 'svg'"
   ]
  },
  {
   "cell_type": "markdown",
   "metadata": {},
   "source": [
    "Here we will take the list of `NetCDF` URLs downloaded from the wave data portal containing the radar altimeter data for a region located offshore New Zealand ['../dataset/IMOS_NZ.txt']\n",
    "\n",
    "For a detail overview of the options available in the `waveAnalysis` class, you can have a look at the [waveAnalysis API](https://radwave.readthedocs.io/en/latest/RADWave.html#RADWave.altiwave.waveAnalysis).\n",
    "\n",
    "During initialisation we also specify:\n",
    "\n",
    "+ `bbox` the bounding box of the geographical extent for the uploaded dataset following the convention [lon min,lon max,lat min,lat max] \n",
    "+ `stime` the starting time of wave climate analysis following the convention [year, month, day] [we chose the 1st of January 1985]\n",
    "+ `etime` the ending time of wave climate analysis following the convention [year, month, day] [we chose the 31st of December 2018]\n",
    "\n",
    "Here again, we don't specify a list of particular satellites to use (`satNames` keyword) so all of them will be queried. In other words we will look at all the records from the 10 altimeters: \n",
    "\n",
    "JASON-2 - JASON-3 - SARAL - SENTINEL-3A - CRYOSAT-2 - ENVISAT - GEOSAT - ERS-2 - GFO - TOPEX."
   ]
  },
  {
   "cell_type": "code",
   "execution_count": null,
   "metadata": {},
   "outputs": [],
   "source": [
    "wa = rwave.waveAnalysis(altimeterURL='../../dataset/IMOS_NZ.txt', bbox=[175.0,177.0,-47.0,-45.0], \n",
    "                  stime=[1985,1,1], etime=[2022,12,31])"
   ]
  },
  {
   "cell_type": "markdown",
   "metadata": {},
   "source": [
    "## Processing altimeters data\n",
    "\n",
    "After class initialisation querying the actual dataset is realised by calling the `processAltimeterData` function. The description of this function is available from the [API](https://radwave.readthedocs.io/en/latest/RADWave.html#RADWave.altiwave.waveAnalysis.processAltimeterData).\n",
    "\n",
    "The function can take some times to execute depending on the number of NETCDF files to load and the size of the dataset to query (here it should not take more than **30 s**).\n",
    "\n",
    "> **RADWave** uses the uploaded file containing the list of URLs to query via `THREDDS` the remote data. This operation can take *several minutes* and when looking at a large region it is recommended to divide the analyse in smaller regions and download a series of URLs text file instead of the entire domain directly."
   ]
  },
  {
   "cell_type": "code",
   "execution_count": null,
   "metadata": {
    "tags": [
     "hide-output"
    ]
   },
   "outputs": [],
   "source": [
    "#wa.processAltimeterData(max_qc=1, altimeter_pick='all', saveCSV = 'altimeterDataNZ.csv')\n",
    "wa.readAltimeterData(saveCSV = 'altimeterDataNZ.csv')"
   ]
  },
  {
   "cell_type": "markdown",
   "metadata": {},
   "source": [
    "Once the dataset has been queried, we can plot the altimeter data points on a map using the `visualiseData` function.\n",
    "\n",
    "This function **plots** and **saves** in a figure the geographical coordinates of processed altimeter data."
   ]
  },
  {
   "cell_type": "code",
   "execution_count": null,
   "metadata": {},
   "outputs": [],
   "source": [
    "wa.visualiseData(title=\"Altimeter data tracks offshore New Zealand\", extent=[166.,179.,-48.,-42.], \n",
    "                 addcity=None, markersize=30, zoom=8,\n",
    "                 fsize=(10, 9), fsave=None)"
   ]
  },
  {
   "cell_type": "markdown",
   "metadata": {},
   "source": [
    "## Computing wave regime and seasonality\n",
    "\n",
    "\n",
    "### Time series\n",
    "\n",
    "To perform wave analysis and compute the wave parameters discussed in the [documentation](https://radwave.readthedocs.io/en/latest/method.html#), we run the `generateTimeSeries` function. And we then plot these time series by calling the `plotTimeSeries` function. "
   ]
  },
  {
   "cell_type": "code",
   "execution_count": null,
   "metadata": {},
   "outputs": [],
   "source": [
    "timeseries = wa.generateTimeSeries()"
   ]
  },
  {
   "cell_type": "code",
   "execution_count": null,
   "metadata": {},
   "outputs": [],
   "source": [
    "wa.plotTimeSeries(time=[1995,2022], series='H', fsize=(12, 5), fsave=None)\n",
    "wa.plotTimeSeries(time=[1995,2022], series='T', fsize=(12, 5), fsave=None)"
   ]
  },
  {
   "cell_type": "markdown",
   "metadata": {},
   "source": [
    "### Seasonability trends \n",
    "\n",
    "In addition to time series, we analyse the seasonal characteristics of the significant wave height and wave period computed from the altimeter dataset using the `computeSeasonalCharacteristics` function is provided in the [API](https://radwave.readthedocs.io/en/latest/RADWave.html#RADWave.altiwave.waveAnalysis.computeSeasonalCharacteristics).\n",
    "\n",
    "#### Significant wave height"
   ]
  },
  {
   "cell_type": "code",
   "execution_count": null,
   "metadata": {},
   "outputs": [],
   "source": [
    "wh_all = wa.computeSeasonalCharacteristics(series='wh', time=[1995,2022], lonlat=None, fsave=None, plot=True)"
   ]
  },
  {
   "cell_type": "markdown",
   "metadata": {},
   "source": [
    "#### Wave period\n",
    "\n",
    "Here we choose to only perform the calculation of the wave period seasonability but we don't plot the associated graphs.  "
   ]
  },
  {
   "cell_type": "code",
   "execution_count": null,
   "metadata": {},
   "outputs": [],
   "source": [
    "T_all = wa.computeSeasonalCharacteristics(series='period', time=[1995,2022], lonlat=None, \n",
    "                                          fsave=None, plot=True)"
   ]
  },
  {
   "cell_type": "code",
   "execution_count": null,
   "metadata": {},
   "outputs": [],
   "source": []
  },
  {
   "cell_type": "code",
   "execution_count": null,
   "metadata": {},
   "outputs": [],
   "source": []
  }
 ],
 "metadata": {
  "kernelspec": {
   "display_name": "Python 3 (ipykernel)",
   "language": "python",
   "name": "python3"
  },
  "language_info": {
   "codemirror_mode": {
    "name": "ipython",
    "version": 3
   },
   "file_extension": ".py",
   "mimetype": "text/x-python",
   "name": "python",
   "nbconvert_exporter": "python",
   "pygments_lexer": "ipython3",
   "version": "3.8.15"
  }
 },
 "nbformat": 4,
 "nbformat_minor": 4
}
