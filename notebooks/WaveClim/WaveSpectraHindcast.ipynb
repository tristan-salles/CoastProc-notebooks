{
 "cells": [
  {
   "cell_type": "markdown",
   "id": "f4917e0c",
   "metadata": {},
   "source": [
    "# Spectrum and free surface reconstructions\n",
    "\n",
    "> The aim of describing ocean waves with a spectrum is not so much to describe\n",
    "in detail one observation of the sea surface (i.e., one time record), but rather to\n",
    "describe the sea surface as a stochastic process and to characterise all possible\n",
    "observations (time records) that could have been made under the conditions of\n",
    "the actual observation. \n",
    "\n",
    "An observation is thus formally treated as one realisation of a stochastic process. Here, we base this treatment on the random-phase/amplitude model (Holthuijsen, 2007), which leads to the wave spectrum, which is the most important form in which ocean waves are described. The basic concept of the wave spectrum is simple, but its many aspects make it seem rather complicated. \n",
    "\n",
    "To distinguish the essence from these additional aspects, consider first a wave record, the surface elevation $\\eta(t)$ at one location as a function of time, with duration $D$, obtained at sea with a wave buoy or a wave pole (see Figure below).\n",
    "\n",
    "![specexpla](images/specexpla.png)\n",
    "\n",
    "We can exactly reproduce that record as the sum of a large number of harmonic\n",
    "wave components (a **Fourier series**):\n",
    "\n",
    "$$\n",
    "\\eta(t) = \\sum_{i=1}^{N}a_i\\cos(2\\pi f_i t + \\alpha_i)\n",
    "$$\n",
    "\n",
    "where $a_i$ and $\\alpha_i$ are the amplitude and phase, respectively, of each frequency\n",
    "$f_i = i/D$ (i = 1, 2, 3, ...; the frequency interval is therefore $\\Delta f = 1/D$). With\n",
    "a Fourier analysis, we can determine the values of the _amplitude_ and _phase_ for\n",
    "each frequency and this would give us the amplitude and phase spectrum for this\n",
    "record. By substituting these computed amplitudes and phases into\n",
    "the previous equation, we exactly reproduce the record.\n",
    "\n",
    "For most wave records, the phases turn out to have any value between $0$ and $2\\pi$\n",
    "without any preference for any one value. Since this is almost always the case in deep water (not for very steep waves), we will ignore the phase spectrum (just keep this\n",
    "uniform distribution in mind and apply that knowledge when called for).\n",
    "\n",
    "The above one-dimensional variance density spectrum characterises the stationary,\n",
    "Gaussian surface elevation as a function of time (at one geographic location). To\n",
    "describe the actual, three-dimensional, moving waves, the horizontal dimension\n",
    "has to be added. To that end we expand the random phase-amplitude model by\n",
    "considering a harmonic wave that propagates in x, y-space, in direction $\\theta$ relative\n",
    "to the positive x-axis (we use $w$ instead of $f$ for the sake of brevity in the notation):\n",
    "\n",
    "$$\n",
    "\\eta \\: (x,y,t) = a \\cos{(\\omega t - k \\: x\\cos{\\theta} - k \\: y\\sin{\\theta} + \\alpha)}\n",
    "$$\n",
    "\n",
    "where the wave number $k = 2\\pi /L$ (where $L$ is the wave length of the harmonic\n",
    "wave) and $\\theta$ is the direction of wave propagation (i.e.,\n",
    "normal to the wave crest of each individual component). Analogously to the\n",
    "one-dimensional model, the corresponding three-dimensional random phase-amplitude model (in x, y and t-space) is the sum of a large number of such propagating harmonic waves:\n",
    "\n",
    "$$\n",
    "\\eta \\: (x,y,t) = \\sum_{i=1}^{N}\\sum_{j=1}^{M} \\: a_{i,j}\\cos{(\\omega_it - k_i \\: x\\cos{\\theta_j} - k_i \\: y\\sin{\\theta_j} + \\alpha_{i,j})}\n",
    "$$\n",
    "\n",
    "where every individual wave component in this\n",
    "three-dimensional model has a random amplitude $a_{i,j}$ (Rayleigh distributed) and a\n",
    "random phase $\\alpha_{i,j}$ (uniformly distributed). Furthermore, this two-dimensional random phase-amplitude model represents\n",
    "a Gaussian process that is stationary in time and homogeneous in x, y-space: a\n",
    "spatial pattern of chaotically moving surface elevations, seen as the sum of many\n",
    "wave components propagating with various amplitudes, phases and frequencies (or\n",
    "wave lengths) in various directions across the ocean surface. The effect is a realistic\n",
    "representation of random, short-crested waves.\n",
    "\n",
    "The amplitude spectrum provides enough information to describe the sea-surface\n",
    "elevation realistically as a stationary, Gaussian process. However, for several reasons, it is more relevant to present the information in this spectrum\n",
    "in a different way: consider the variance $E \\left \\{ \\frac{1}{2} a_i^2 \\right \\}$ rather than the expectation of the amplitude $E \\left \\{ a_i \\right \\}$. In other words, consider the variance spectrum instead of the amplitude spectrum. This seems\n",
    "trivial and also enough to characterise the sea-surface elevation. However, both the\n",
    "amplitude and the variance spectrum are based on discrete frequencies and directions, whereas\n",
    "Nature does not select such discrete quantities. All frequencies and directions are present at sea.\n",
    "The random phase-amplitude model needs therefore to be modified. This is done\n",
    "by distributing the variance $E \\left \\{ \\frac{1}{2} a_i^2 \\right \\}$ over the frequency interval $\\Delta f_i$ at frequency $f_i$ and the direction interval $\\Delta \\theta_i$ at direction $\\theta_i$. This spectrum is defined for all\n",
    "frequencies and directions, but it still varies discontinuously from one frequency or direction band to the next. A continuous version is obtained by having both widths bands approaching zero:\n",
    "\n",
    "$$\n",
    "E (f, \\theta) = \\lim_{\\Delta f \\: \\rightarrow \\: 0} \\:\\:\\: \\lim_{\\Delta \\theta \\: \\rightarrow \\: 0} \\:\\:\\: \\frac{1}{\\Delta f \\Delta \\theta} \\: E \\left \\{ \\frac{1}{2}a^2 \\right \\}\n",
    "$$\n",
    "\n",
    "where the spectrum is calculated in terms of the frequency $f$ and the direction $\\theta$. The variance density spectrum gives a complete description of the surface elevation\n",
    "of ocean waves in a statistical sense, provided that the surface elevation can be seen\n",
    "as a stationary, Gaussian process. This implies that all statistical characteristics\n",
    "of the wave field can be expressed in terms of this spectrum. \n",
    "The dimension and S.I. unit of the variance density $E (f, \\theta)$ follow directly from\n",
    "its definition: the dimension of the amplitude $a$ is [length] and its S.I.\n",
    "unit is [m]; the dimension of the frequency band $\\Delta f$ is [time]$^{-1}$ and its S.I. unit is\n",
    "[s$^{-1}$] or rather [Hz]; and the dimension of the direction $\\theta$ is [degree] and its S.I. unit is [radians]. The dimension of $E (f, \\theta)$ is therefore [length$^{2}$ / (time $\\cdot$ degree)] and\n",
    "its unit is [m$^{2}$ / (Hz $\\cdot$ radians)].\n",
    "\n",
    "![specbonito](images/specbonito.png)\n",
    "\n",
    "The standard way to calculate the spectrum has been presented, as once the free surface elevation is obtained, this variance density spectrum can be easily obtained, but in this work, the spectrum calculation has been performed in coast, where partitioned sea state variables (partitions will be explained below) and not free surface elevations exist. In this way, this spectrum reconstruction is performed using the variables propagated $H_S$, $T_P$, $T_m$ and $\\theta_m$, where $S(f, \\theta) = S(f) \\cdot D(\\theta)$, being $S(f)$ the spectral energy associated to the frequency and $D(\\theta)$ the spectral energy associated to the direction, is the total wave energy of the spectrum. These two energy variables grouped represent the total spectral energy associated to each frequency and direction in a sea state and are calculated using the equations below, which are also very well explained in (Kumar et al., 2017). First, the frequency distributed spectrum is calculated for each frequency as:\n",
    "\n",
    "$$\n",
    "S(f) = \\alpha \\cdot H_S^2 \\cdot T_P^{-4} \\cdot f^{-5} \\cdot \\exp{(-1.25 (T_P \\cdot f)^{-4})} \\cdot \\gamma^{\\exp{\\frac{-(T_P \\cdot f - 1)^2}{2\\sigma^2}}}\n",
    "$$\n",
    "\n",
    "where $\\gamma$ gives an idea about the shape of the spectrum, being high for very disordered spectrums and lower for narrower and more powerful swells, and $\\alpha$ and $\\sigma$ are calculated in the next way:\n",
    "\n",
    "$$\n",
    "\\alpha = \\frac{0.06238}{0.23 + 0.0336 \\cdot \\gamma - 0.185 \\: (1.9 + \\gamma)^{-1}}\\:\\:(1.094 − 0.01915 \\cdot \\ln{\\gamma})\n",
    "$$\n",
    "\n",
    "$$\n",
    "\\sigma = 0.07 \\:\\:\\: \\text{if} \\:\\:\\: f<f_{P} \\:\\:\\: | \\:\\:\\: \\sigma = 0.09 \\:\\:\\: \\text{if} \\:\\:\\: f\\geq f_{P}\n",
    "$$\n",
    "\n",
    "being $f_P = T_P^{-1}$ the peak frequency of the spectrum. For the directional spectrum, the spectral energy is also calculated for each direction:\n",
    "\n",
    "$$\n",
    "D(\\theta) = \\frac{2^{2s-1}}{\\pi}\\frac{\\Gamma^2(s+1)}{\\Gamma(2s+1)}\\cos{\\frac{\\theta - \\theta_S}{2}}^{2s}\n",
    "\\label{eqn:dt}   \n",
    "$$\n",
    "\n",
    "where $s = \\frac{2}{\\sigma_\\theta^2} - 1$ is a shape parameter, $\\theta_S$ is the direction of the peak frequency and $\\int_{0}^{2\\pi}D(\\theta)d\\theta=1$. Once these spectra are reconstructed we just have to calculate the aggregated parameters (as our surfing index will use bulk parameters), which can be done using some formulas that are explained in (Espejo Hermosa, 2011) and also in (Kumar et al., 2017), but in this case we will use a computational software called [wavespectra](https://github.com/wavespectra/wavespectra). "
   ]
  },
  {
   "cell_type": "code",
   "execution_count": null,
   "id": "079cdbf3",
   "metadata": {},
   "outputs": [],
   "source": [
    "import pandas as pd\n",
    "import numpy as np\n",
    "import xarray as xr\n",
    "\n",
    "import wavespectra as wspec\n",
    "\n",
    "from matplotlib import pyplot as plt\n",
    "%matplotlib inline"
   ]
  },
  {
   "cell_type": "markdown",
   "id": "8959026d",
   "metadata": {},
   "source": [
    "# BOM forecast\n",
    "\n",
    "http://www.bom.gov.au/australia/charts/viewer/index.shtml?type=primSwell&tz=AEDT&area=Au&model=CG&chartSubmit=Refresh+View\n",
    "\n",
    "\n",
    "http://opendap.bom.gov.au:8080/thredds/catalog.html\n",
    "\n",
    "`NMOC Ocean Data Library/WaveWatch3/WW3 Global Forecast/`"
   ]
  },
  {
   "cell_type": "code",
   "execution_count": null,
   "id": "5a08d213",
   "metadata": {},
   "outputs": [],
   "source": [
    "url = 'http://opendap.bom.gov.au:8080/thredds/dodsC/nmoc/ww3_global_fc/ww3_20230330_00.R.nc'\n",
    "data = xr.open_dataset(url)\n",
    "data"
   ]
  },
  {
   "cell_type": "code",
   "execution_count": null,
   "id": "747a11ce",
   "metadata": {},
   "outputs": [],
   "source": [
    "buoy_lat=-34.0\n",
    "buoy_lon=151.5"
   ]
  },
  {
   "cell_type": "code",
   "execution_count": null,
   "id": "2a36079f",
   "metadata": {},
   "outputs": [],
   "source": [
    "fig = plt.figure(figsize=[10,7])\n",
    "ax = plt.axes()\n",
    "\n",
    "data.sig_wav_ht.isel(time=-1).plot(\n",
    "              vmin=0, vmax=8,\n",
    "              cmap='seismic')\n",
    "\n",
    "# Site offshore Sydney\n",
    "ax.scatter(buoy_lon, buoy_lat, c='deeppink', s=50, edgecolors='k', linewidth=1)\n",
    "plt.tight_layout()\n",
    "plt.show()"
   ]
  },
  {
   "cell_type": "code",
   "execution_count": null,
   "id": "424e442e",
   "metadata": {},
   "outputs": [],
   "source": [
    "min_lon = 143     # lower left longitude\n",
    "min_lat = -20     # lower left latitude\n",
    "max_lon = 158     # upper right longitude\n",
    "max_lat = -45     # upper right latitude\n",
    "\n",
    "# Defining the boundaries\n",
    "lon_bnds = [min_lon, max_lon]\n",
    "lat_bnds = [min_lat, max_lat]\n",
    "\n",
    "# Performing the reduction\n",
    "data_clip = data.sel(lat=slice(*lat_bnds),lon=slice(*lon_bnds))"
   ]
  },
  {
   "cell_type": "code",
   "execution_count": null,
   "id": "ff22225a",
   "metadata": {},
   "outputs": [],
   "source": [
    "fig = plt.figure(figsize=[5,7])\n",
    "ax = plt.axes()\n",
    "\n",
    "data_clip.sig_wav_ht.isel(time=1).plot(\n",
    "              vmin=0, vmax=8,\n",
    "              cmap='seismic')\n",
    "\n",
    "# Site offshore Sydney\n",
    "ax.scatter(buoy_lon, buoy_lat, c='deeppink', s=50, edgecolors='k', linewidth=1)\n",
    "plt.tight_layout()\n",
    "plt.show()"
   ]
  },
  {
   "cell_type": "code",
   "execution_count": null,
   "id": "74389782",
   "metadata": {},
   "outputs": [],
   "source": [
    "buoy = data_clip.sel(lat=-34.0,lon=151.5)\n",
    "\n",
    "fig = plt.figure(figsize=[10,4])\n",
    "buoy.sig_wav_ht.plot(lw=3,label='hs')\n",
    "\n",
    "buoy.sig_ht_sw1.plot(lw=2,label='swell1')\n",
    "buoy.sig_ht_sw2.plot(lw=2,label='swell2')\n",
    "buoy.sig_ht_sw3.plot(lw=2,label='swell3')\n",
    "\n",
    "buoy.sig_ht_wnd_sea.plot(lw=2,label='wind sea')\n",
    "\n",
    "plt.legend()\n",
    "plt.tight_layout()\n",
    "plt.show()"
   ]
  },
  {
   "cell_type": "markdown",
   "id": "164e97e9",
   "metadata": {},
   "source": [
    "Compare to https://mhl.nsw.gov.au/Station-SYDDOW"
   ]
  },
  {
   "cell_type": "markdown",
   "id": "9aad3b69",
   "metadata": {},
   "source": [
    "# Spectral reconstruction"
   ]
  },
  {
   "cell_type": "markdown",
   "id": "9a127570",
   "metadata": {},
   "source": [
    "![specs](images/specsplot.png)\n",
    "\n",
    "Spectrum and free surface reconstructions are shown. The axis are frequency [Hz], direction [rad] and energy [m$^2$ / (Hz $\\cdot$ rad)] in the figures in the left and space [m] and elevation [m] in the other ones. As it can be seen, the different subplots show three different sea states. The first one (top of the image) represents a windsea, very spread in frequencies and directions that come from the NE, which is the normal case in the cantabric sea. The free surface associated to it shows a disturbed see state where mean waves appear, generating bad surfing conditions. Second, a very well defined swell coming from the NW is shown. In this case, waves seem clean and the conditions are perfect though. Lastly, in the bottom image, one sea state with a swell coming from the NW but also a windsea approching with NE direction is shown. These are the cases where intelligent surfers can catch good waves, but it is not that easy as in the previous case. Notice that the majority of the swells come always from the W-NW in the cantabric sea, as it is in this direction where the major portion of sea is encountered (\"fetch\", this was previously mentioned). Finally, the surface reconstruction shows very different surfing sessions. In the left, a disperse and untidy summer day is shown and in the right, an ordered and epic session is waiting for us."
   ]
  },
  {
   "cell_type": "code",
   "execution_count": null,
   "id": "5e563efe",
   "metadata": {},
   "outputs": [],
   "source": [
    "url2 = 'https://data-cbr.csiro.au/thredds/dodsC/catch_all/CMAR_CAWCR-Wave_archive/CAWCR_Wave_Hindcast_aggregate/spec/ww3.202302_spec.nc'\n",
    "data2 = xr.open_dataset(url2)\n",
    "data2"
   ]
  },
  {
   "cell_type": "code",
   "execution_count": null,
   "id": "11087341",
   "metadata": {},
   "outputs": [],
   "source": [
    "# station_lat = []\n",
    "# station_lon = []\n",
    "# for k in range(3684):\n",
    "#     station_lat.append(data2.latitude.isel(station=k,time=0).values)\n",
    "#     station_lon.append(data2.longitude.isel(station=k,time=0).values)\n",
    "\n",
    "# datadf = {\n",
    "#     'station_lon':station_lon,\n",
    "#     'station_lat':station_lat,\n",
    "# }\n",
    "\n",
    "# df = pd.DataFrame(datadf)\n",
    "# df.to_csv('ww3-station.csv',index=False)\n",
    "df = pd.read_csv('ww3-station.csv')\n",
    "df"
   ]
  },
  {
   "cell_type": "code",
   "execution_count": null,
   "id": "e9cc6020",
   "metadata": {},
   "outputs": [],
   "source": [
    "dlon2 = np.abs(df.station_lon-buoy_lon)**2 \n",
    "dlat2 = np.abs(df.station_lat-buoy_lat)**2 \n",
    "dist = np.sqrt(dlon2+dlat2)\n",
    "station_id = np.where(dist==dist.min())[0][0]"
   ]
  },
  {
   "cell_type": "code",
   "execution_count": null,
   "id": "766d7df5",
   "metadata": {},
   "outputs": [],
   "source": [
    "fig = plt.figure(figsize=[5,7])\n",
    "ax = plt.axes()\n",
    "\n",
    "data_clip.sig_wav_ht.isel(time=1).plot(\n",
    "              vmin=0, vmax=8,\n",
    "              cmap='seismic')\n",
    "\n",
    "# Site offshore Sydney\n",
    "ax.scatter(df.station_lon, df.station_lat, c='deeppink', s=50, edgecolors='k', linewidth=1)\n",
    "ax.scatter(df.station_lon[station_id], df.station_lat[station_id], c='lime', s=50, edgecolors='k', linewidth=1)\n",
    "plt.tight_layout()\n",
    "plt.show()"
   ]
  },
  {
   "cell_type": "code",
   "execution_count": null,
   "id": "3609ec1c",
   "metadata": {},
   "outputs": [],
   "source": [
    "data2.sel(station=station_id)"
   ]
  },
  {
   "cell_type": "code",
   "execution_count": null,
   "id": "1a89bf98",
   "metadata": {},
   "outputs": [],
   "source": [
    "data2.sel(station=station_id).isel(time=slice(1,10)).to_netcdf('ww3-station2.nc')"
   ]
  },
  {
   "cell_type": "code",
   "execution_count": null,
   "id": "56ecc42c",
   "metadata": {},
   "outputs": [],
   "source": [
    "dset = wspec.read_ww3('ww3-station2.nc')\n",
    "dset"
   ]
  },
  {
   "cell_type": "markdown",
   "id": "a6879166",
   "metadata": {},
   "source": [
    "## Wave partitions: Windseas and Swells\n",
    "\n",
    "Last, having this spectrum explanation (refer to the figures above) it is possible to differentiate between the two main types of waves that could be encountered when approaching the beach. If the spectrum is narrow and energetic, high wave heights form energetic spectrums, thus the train of waves reaching the shore can be considered a swell while broader and less energetic spectrums represent the existence of sea states called windseas, as these waves did not have the time enough to correctly abandon the location where they were formed and did not have time enough to get ordered both in frequencies and directions. \n",
    "\n",
    "These differences are also seen in the way the data from the wave reanalysis that will be explained below is obtained. These numerical models calculate different partitions that are present at the same time in a sea state, thus giving information about a windsea and different swells that can be reaching the shore at the same time. In our case (CSIRO wave reanalysis), one windsea will be always present if wind exists, and a total amount of three swells would be calculated.\n",
    "\n",
    "**To summarize, spectrums are the best possible option for the study of the wave climate in our days. They provide all the necessary information to define a sea state correctly and can be calculated by two different ways. First, based on the free measured surface and second, using the previously described equations and calculating the energy associated to each frequency and direction based on the sea states variables.**"
   ]
  },
  {
   "cell_type": "code",
   "execution_count": null,
   "id": "6676c7f0",
   "metadata": {},
   "outputs": [],
   "source": [
    "hs = dset.spec.hs()\n",
    "stats = dset.spec.stats(['hs','tp','dpm'])\n",
    "\n",
    "def print_header(string, string2='', nchar=80):\n",
    "    print('\\n{}\\n{}:\\n{}\\n{}'.format(nchar*'=', string, nchar*'=', string2))"
   ]
  },
  {
   "cell_type": "code",
   "execution_count": null,
   "id": "235b5b3f",
   "metadata": {},
   "outputs": [],
   "source": [
    "# print_header('Calculate significant wave height', hs)\n",
    "# print_header('Calculate Multiple wave stats', stats)"
   ]
  },
  {
   "cell_type": "code",
   "execution_count": null,
   "id": "14660118",
   "metadata": {},
   "outputs": [],
   "source": [
    "fcut = 1 / 8\n",
    "sea = dset.spec.split(fmin=fcut)\n",
    "swell = dset.spec.split(fmax=fcut)\n",
    "\n",
    "print_header('Full spectrum', dset.freq)\n",
    "print_header('High-frequency partition', sea.freq)\n",
    "print_header('Low-frequency partition', swell.freq)"
   ]
  },
  {
   "cell_type": "code",
   "execution_count": null,
   "id": "befd262a",
   "metadata": {},
   "outputs": [],
   "source": [
    "plt.figure(figsize=[12,4])\n",
    "hs.plot(label='Full spectrum', marker='o')\n",
    "sea.spec.hs().plot(label='Wind Sea', marker='o')\n",
    "swell.spec.hs().plot(label='Swell', marker='o')\n",
    "plt.legend(loc=0, fontsize=8)"
   ]
  },
  {
   "cell_type": "code",
   "execution_count": null,
   "id": "de92c262",
   "metadata": {},
   "outputs": [],
   "source": [
    "ds_part = dset.spec.partition(dset.wspd, dset.wdir, dset.dpt)\n",
    "hs_part = ds_part.spec.hs()\n",
    "\n",
    "print_header('An extra dimension [part] is defined', ds_part)\n",
    "\n",
    "print_header('Plotting')\n",
    "plt.figure(figsize=[12,4])\n",
    "hs.plot(label='Full spectrum', marker='o')\n",
    "hs_part.isel(part=0).plot(label='Partition 0', marker='o')\n",
    "hs_part.isel(part=1).plot(label='Partition 1', marker='o')\n",
    "plt.legend(loc=0, fontsize=8)"
   ]
  },
  {
   "cell_type": "code",
   "execution_count": null,
   "id": "eca283fe",
   "metadata": {},
   "outputs": [],
   "source": [
    "dsf = dset.spec.oned()\n",
    "\n",
    "print_header('Plotting spectra history')\n",
    "plt.figure(figsize=[12,4])\n",
    "dsf.transpose().plot.contourf()\n",
    "plt.ylim((0.04, 0.2))"
   ]
  },
  {
   "cell_type": "code",
   "execution_count": null,
   "id": "3dc82c4b",
   "metadata": {},
   "outputs": [],
   "source": [
    "dset.spec.plot(\n",
    "    kind=\"contourf\",\n",
    "    col=\"time\",\n",
    "    col_wrap=3,\n",
    "    as_period=False,\n",
    "    normalised=True,\n",
    "    logradius=True,\n",
    "    add_colorbar=True,\n",
    "    cmap=\"Spectral_r\",\n",
    "    figsize=(12,12)\n",
    ")\n",
    "# plt.tight_layout()\n",
    "plt.draw()"
   ]
  },
  {
   "cell_type": "code",
   "execution_count": null,
   "id": "83d5d5a3",
   "metadata": {},
   "outputs": [],
   "source": []
  },
  {
   "cell_type": "code",
   "execution_count": null,
   "id": "6b282837",
   "metadata": {},
   "outputs": [],
   "source": [
    "dset1 = dset.where(dset>0, 1e-5)\n",
    "dset1 = np.log10(dset1)\n",
    "dset1.spec.plot(\n",
    "    kind=\"contourf\",\n",
    "    col=\"time\",\n",
    "    col_wrap=3,\n",
    "    clean_axis=True,\n",
    "    figsize=(12,12),\n",
    "    logradius=False,\n",
    "    vmin=0.6,\n",
    "    levels=15,\n",
    "    extend=\"both\",\n",
    "    cmap='inferno',\n",
    "    add_colorbar=False,\n",
    "    )\n",
    "plt.tight_layout()\n",
    "plt.draw()"
   ]
  },
  {
   "cell_type": "code",
   "execution_count": null,
   "id": "48c6c676",
   "metadata": {},
   "outputs": [],
   "source": []
  }
 ],
 "metadata": {
  "kernelspec": {
   "display_name": "Python 3 (ipykernel)",
   "language": "python",
   "name": "python3"
  },
  "language_info": {
   "codemirror_mode": {
    "name": "ipython",
    "version": 3
   },
   "file_extension": ".py",
   "mimetype": "text/x-python",
   "name": "python",
   "nbconvert_exporter": "python",
   "pygments_lexer": "ipython3",
   "version": "3.8.16"
  }
 },
 "nbformat": 4,
 "nbformat_minor": 5
}
