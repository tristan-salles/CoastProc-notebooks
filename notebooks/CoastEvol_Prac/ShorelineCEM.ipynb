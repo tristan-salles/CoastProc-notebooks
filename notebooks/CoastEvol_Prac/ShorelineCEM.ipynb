{
 "cells": [
  {
   "cell_type": "code",
   "execution_count": null,
   "id": "a362afe1",
   "metadata": {},
   "outputs": [],
   "source": [
    "import warnings\n",
    "warnings.simplefilter(action='ignore', category=FutureWarning)\n",
    "\n",
    "import numpy as np\n",
    "import matplotlib.pyplot as plt\n",
    "from matplotlib import path\n",
    "\n",
    "%matplotlib inline\n",
    "%config InlineBackend.figure_format = 'svg' \n",
    "\n",
    "import pandas as pd\n",
    "from scipy import stats,signal\n",
    "\n",
    "from pymt.models import Cem, Waves\n",
    "import buoypy as bp\n",
    "import runmodels_functions as fun"
   ]
  },
  {
   "cell_type": "markdown",
   "id": "0fb295b9",
   "metadata": {},
   "source": [
    "# Simulating Shoreline Change using the Coastline Evolution Model (CEM)\n",
    "\n",
    "\n",
    "<p style=\"text-align:center;\"><img src=\"Erie_example/spit.jpg\" alt=\"spit\" width=\"500\"/></p>"
   ]
  },
  {
   "cell_type": "markdown",
   "id": "8883e117",
   "metadata": {},
   "source": [
    "## 1. Load Shoreline Data from CoastSAT & NDBC Buoy Wave Data\n",
    "\n",
    "First, let's get our wave data:"
   ]
  },
  {
   "cell_type": "markdown",
   "id": "b54845cf",
   "metadata": {},
   "source": [
    "### NDBC buoy"
   ]
  },
  {
   "cell_type": "code",
   "execution_count": null,
   "id": "d4b68573",
   "metadata": {},
   "outputs": [],
   "source": [
    "# User input from NDBC buoy (make sure buoy has wave height available)\n",
    "station = 45167\n",
    "year = np.NAN\n",
    "year_range = (2014,2021)\n",
    "H = bp.historic_data(station,year,year_range)\n",
    "\n",
    "X = H.get_all_stand_meteo()\n",
    "# Remove missing data\n",
    "X.mask((X==99.0) | (X==9999.0), inplace=True)\n",
    "\n",
    "# plot relevant data to check it looks ok\n",
    "fun.plotmeteo(X)"
   ]
  },
  {
   "cell_type": "markdown",
   "id": "009d779c",
   "metadata": {},
   "source": [
    "Extract relevant wave data for **CEM**"
   ]
  },
  {
   "cell_type": "code",
   "execution_count": null,
   "id": "47a39044",
   "metadata": {},
   "outputs": [],
   "source": [
    "Hs = np.mean(X.WVHT)\n",
    "Tp = np.mean(X.DPD)\n",
    "wdir = X.WDIR.values.copy()\n",
    "wdir = wdir[~np.isnan(wdir)]\n",
    "[Dir,count] = stats.mode(wdir) \n",
    "\n",
    "print('Mean significant wave height Hs (m)',Hs)\n",
    "print('Mean wave period Tp (s)',Tp)\n",
    "print('Mean wave direction (o)',Dir[0])"
   ]
  },
  {
   "cell_type": "markdown",
   "id": "903e497a",
   "metadata": {},
   "source": [
    "We will be using the significant wave height (Hs), wave period (Tp), and wave direction (Dir) data from the NDBC buoy as inputs into the WAVES model. \n",
    "\n",
    "### Shoreline\n",
    "\n",
    "Now let's look at our shoreline:"
   ]
  },
  {
   "cell_type": "code",
   "execution_count": null,
   "id": "f312a313",
   "metadata": {},
   "outputs": [],
   "source": [
    "# gridded shoreline data\n",
    "xy = np.loadtxt('Erie_example/pt_coords.txt')[:,:2]\n",
    "\n",
    "x = xy[:,0]  # x-coords\n",
    "y = xy[:,1]  # y-coords\n",
    "\n",
    "## Grid spacing in [meters]\n",
    "dx = 100 \n",
    "dy = 100\n",
    "\n",
    "## If the number of data points is large (>10 thousand), reducing the size of the \n",
    "# data by skipping every Z steps. Here we are skipping every 200 data points to reduce \n",
    "# the processing time when we regrid the shoreline\n",
    "x,y = x[::200],y[::200] \n",
    "\n",
    "x, y = fun.rotate_shoreline(x, y)\n",
    "x, y = fun.extend_shoreline(x, y, 1e4)\n",
    "\n",
    "[xg, yg, elev] = fun.shorelinetogrid(x, y, dx, dy, plotdata=False)\n",
    "\n",
    "# Now we need to tidy up the rotated shoreline and also make the shore/shelf gradients \n",
    "# smoother for CEM to calculate the shore/self slopes. The former is done by simply \n",
    "# assigning all grid cells below the shorelines edge a \"shoreline\" grid value. \n",
    "# The smoothing is done by a 2d convolution of the shoreface.\n",
    "domain = fun.set_domain(elev, pad=20)"
   ]
  },
  {
   "cell_type": "markdown",
   "id": "bc17d16d",
   "metadata": {},
   "source": [
    "Let's visualize this updated coastline data with the function plot_coast. This will confirm that we have effectively translated the spit into model space"
   ]
  },
  {
   "cell_type": "code",
   "execution_count": null,
   "id": "2dce8627",
   "metadata": {},
   "outputs": [],
   "source": [
    "fun.plot_coast(domain,dx,dy)"
   ]
  },
  {
   "cell_type": "markdown",
   "id": "5b62923c",
   "metadata": {},
   "source": [
    "### 1.4 Shoreface/Shelf Slope\n",
    "\n",
    "Our last step in data preparation is to find the average shoreface and shelf slope - two CEM parameters. \n",
    "\n",
    "We will do this by appoximating a straight transect that extends from the beach offshore \n",
    "to approximate the shelf slope:"
   ]
  },
  {
   "cell_type": "code",
   "execution_count": null,
   "id": "ec005f1f",
   "metadata": {},
   "outputs": [],
   "source": [
    "shelf_slope = fun.find_shelf_slope(domain, dx, pad=20) # This should be on the order of 0.001. \n",
    "print('Shelf slope',np.round(shelf_slope,4))\n",
    "\n",
    "# Estimation of shoreface parameters:\n",
    "shoreface_slope = 4. * shelf_slope # -> the shoreface is steeper than the shelf\n",
    "shoreface_depth = 10. # Depth meters\n",
    "print('Shoreface slope',np.round(shoreface_slope,4),' and depth ',shoreface_depth,'m')"
   ]
  },
  {
   "cell_type": "markdown",
   "id": "e7149efd",
   "metadata": {},
   "source": [
    "### 2. Model Setup\n",
    "\n",
    "We are using the [Coastal Evolution Model (CEM)](https://csdms.colorado.edu/wiki/Model_help:CEM) and the [WAVES](https://csdms.colorado.edu/wiki/Model_help:Waves) models. \n",
    "\n",
    "+ **CEM** simulates morphodynamic evolution of coastlines under varying wave climates. \n",
    "\n",
    "+ **WAVES** is the model that calculates the input wave energetics used in **CEM** as a function of wave period (T), deep water wave height (H<sub>0</sub>), and wave angle criteria. "
   ]
  },
  {
   "cell_type": "code",
   "execution_count": null,
   "id": "965a6b92",
   "metadata": {},
   "outputs": [],
   "source": [
    "cem = Cem()\n",
    "waves = Waves()"
   ]
  },
  {
   "cell_type": "markdown",
   "id": "48c774dc",
   "metadata": {},
   "source": [
    "### 3.1. Initialize Models with Input Criteria\n",
    "\n",
    "For our wave parameters, we are using the data from the first section of this notebook. \n",
    "In addition we need to define the wave climate “asymmetry”, **A**, that determines the fraction of waves approaching from the left relative to the regional shoreline trend (*i.e.*, the fraction of waves that will result in alongshore sediment transport to the right facing offshore).\n",
    " \n",
    "To convert wave direction to the **A** parameter, we use the following formula:\n",
    "\n",
    "$$\n",
    "A = 1 - \\frac{|Dir-270|}{180}\n",
    "$$\n",
    "\n",
    "*where **Dir** represents wave direction.*"
   ]
  },
  {
   "cell_type": "code",
   "execution_count": null,
   "id": "03f6e06a",
   "metadata": {},
   "outputs": [],
   "source": [
    "# Convert wave direction to asymmetry term\n",
    "Ap = 1 - float(abs(Dir[0]-270)/180)\n",
    "\n",
    "print('Mean significant wave height Hs (m)',Hs)\n",
    "print('Mean wave period Tp (s)',Tp)\n",
    "print('Mean wave direction (o)',Dir[0])\n",
    "print('Wave climate asymmetry', np.round(Ap,2))"
   ]
  },
  {
   "cell_type": "markdown",
   "id": "5c59dc6b",
   "metadata": {},
   "source": [
    "Here we are creating a _dictionary_ to assign value to our various input parameters for both the CEM and WAVES models. \n",
    "\n",
    "> This dictionary will then be passed into the **initialize_models** function which sets up our models.\n"
   ]
  },
  {
   "cell_type": "code",
   "execution_count": null,
   "id": "2e60c48e",
   "metadata": {},
   "outputs": [],
   "source": [
    "params = {\n",
    "    \n",
    "    ## CEM \n",
    "    'grid_spacing'    : dx,                # meters\n",
    "    'shelf_slope'     : shelf_slope,\n",
    "    'shoreface_depth' : shoreface_depth,   # meters\n",
    "    'shoreface_slope' : shoreface_slope,\n",
    "    'model__time_step': 1,               # days\n",
    "    \n",
    "    ##WAVES\n",
    "    'wave_height' : Hs, # meters\n",
    "    'wave_period' : Tp, # seconds\n",
    "    'wave_angle_highness': 0.65, \n",
    "    'wave_angle_asymmetry': Ap\n",
    "    \n",
    "}"
   ]
  },
  {
   "cell_type": "markdown",
   "id": "d36be0fb",
   "metadata": {},
   "source": [
    "In **CEM**, cells can either be water or land. \n",
    "\n",
    "Land cells will have a uniform height that is greater than the water depth. *They will only be affected by the coastal processes of alongshore sediment transport and wave action*. Inland cells will not be affected. \n",
    "\n",
    "Water cells will have a set bathymetry that will respond to sediment supply and wave action. The model calculates the bathymetry through the inner shelf slope (`shelf_slope`), depth at which the shoreface ends (``shoreface_depth``), and the shoreface slope (``shoreface_slope``). \n",
    "\n",
    "We initialize the model with the `initialize_models` function."
   ]
  },
  {
   "cell_type": "code",
   "execution_count": null,
   "id": "dd76193d",
   "metadata": {},
   "outputs": [],
   "source": [
    "fun.initialize_models(params,domain,cem,waves)"
   ]
  },
  {
   "cell_type": "markdown",
   "id": "d5de72f5",
   "metadata": {},
   "source": [
    "Let's look at our input coastline again with the **plot_coast** function as our baseline. "
   ]
  },
  {
   "cell_type": "code",
   "execution_count": null,
   "id": "ec370225",
   "metadata": {},
   "outputs": [],
   "source": [
    "land = cem.get_value('land_surface__elevation')\n",
    "land = land.reshape(domain.shape)\n",
    "init = land.copy()\n",
    "\n",
    "fun.plot_coast(land,dx,dy)"
   ]
  },
  {
   "cell_type": "markdown",
   "id": "07faf8dd",
   "metadata": {},
   "source": [
    "## RUN THE MODEL!\n",
    "\n",
    "\n",
    "Run the model using the `run_model_loop` function.\n",
    "\n",
    "> This function will run the CEM and can display an animation of the evolving shoreline. The first input expresses the model run time (in years). The function displays an animation by default but you can set `animate=False` to decrease model computation time.\n"
   ]
  },
  {
   "cell_type": "code",
   "execution_count": null,
   "id": "204c2318",
   "metadata": {},
   "outputs": [],
   "source": [
    "T = 20 # years\n",
    "fun.run_model_loop(T, domain, cem, waves, update_ani_years=1/2, animate=True)\n",
    "final = cem.get_value('land_surface__elevation')\n",
    "final = final.reshape(domain.shape)"
   ]
  },
  {
   "cell_type": "code",
   "execution_count": null,
   "id": "8f1fb431",
   "metadata": {},
   "outputs": [],
   "source": [
    "diff = fun.plot_change(land, final, dx, dy)\n",
    "\n",
    "print('Overall general changes values [mean, min, max]: [',np.round(diff.mean(),3),',',\n",
    "      np.round(diff.min(),3),',',np.round(diff.max(),3),']')"
   ]
  },
  {
   "cell_type": "markdown",
   "id": "de3b2089",
   "metadata": {},
   "source": [
    "## Analysing shoreface characteristics impact\n",
    "\n",
    "While not as dynamic as sandy shorelines, the shoreface is an important offshore transition region existing in between the surf zone and inner shelf that modulates sediment dynamics on the shoreline. \n",
    "\n",
    "In this first analyse, you will see how changing the shoreface geomorphology alters the evolution of our coastline through time.\n",
    "\n",
    "> To update specific parameters, we can overwrite their existing values in the `param` dictionary. Let's begin by altering our shoreface parameters:"
   ]
  },
  {
   "cell_type": "code",
   "execution_count": null,
   "id": "59893334",
   "metadata": {},
   "outputs": [],
   "source": [
    "# Insert your values below\n",
    "params['shoreface_depth'] = 20 # recommended range: 10-20\n",
    "params['shoreface_slope'] = 3*shelf_slope # recommended range: 3-10*inner shelf slope"
   ]
  },
  {
   "cell_type": "markdown",
   "id": "c481c9dd",
   "metadata": {},
   "source": [
    "Then we reinitialise the domain:"
   ]
  },
  {
   "cell_type": "code",
   "execution_count": null,
   "id": "ad7f62de",
   "metadata": {},
   "outputs": [],
   "source": [
    "domain = fun.set_domain(elev, pad=20)\n",
    "fun.initialize_models(params,domain,cem,waves)"
   ]
  },
  {
   "cell_type": "code",
   "execution_count": null,
   "id": "f06df749",
   "metadata": {},
   "outputs": [],
   "source": [
    "land2 = cem.get_value('land_surface__elevation')\n",
    "land2 = land2.reshape(domain.shape)\n",
    "fun.plot_coast(land2,dx,dy)"
   ]
  },
  {
   "cell_type": "code",
   "execution_count": null,
   "id": "8fea4ff3",
   "metadata": {},
   "outputs": [],
   "source": [
    "T = 20 # model duration (years)\n",
    "\n",
    "# With animation\n",
    "#fun.run_model_loop(T,domain,cem,waves,update_ani_years=1/2)\n",
    "\n",
    "# Without animation\n",
    "fun.run_model_loop(T, domain, cem, waves, animate=False)\n",
    "final2 = cem.get_value('land_surface__elevation')\n",
    "final2 = final2.reshape(domain.shape)\n",
    "fun.plot_coast(final2, dx, dy)"
   ]
  },
  {
   "cell_type": "code",
   "execution_count": null,
   "id": "ebe625b0",
   "metadata": {},
   "outputs": [],
   "source": [
    "diff2 = fun.plot_change(land2, final2, dx, dy)\n",
    "\n",
    "print('Overall general changes values [mean, min, max]: [',np.round(diff2.mean(),3),',',\n",
    "      np.round(diff2.min(),3),',',np.round(diff2.max(),3),']')"
   ]
  },
  {
   "cell_type": "markdown",
   "id": "b11f7da8",
   "metadata": {},
   "source": [
    "### Questions:\n",
    "\n",
    "Go back and modify the shoreface input parameters, increasing and/or decreasing your depth and slope values. After running the model a couple times, please answer the following:\n",
    "\n",
    "1. How does altering the shoreface **depth** affect the final geometry of your shoreline?\n",
    "\n",
    "2. How does altering the shoreface **slope** affect the final geometry of your shoreline?"
   ]
  },
  {
   "cell_type": "markdown",
   "id": "73741e7b",
   "metadata": {},
   "source": [
    "## Varying wave climates\n",
    "\n",
    "Just as our shoreline is susceptible to changes in shoreface morphology, our coastline will likely experience a range of waves through time that will alter its shape and size. \n",
    "\n",
    "> Storm events often bring longer, higher energy waves that can drastically alter shorelines in a short amount of time. \n",
    "\n",
    "In this part, you will examine how variations in wave climate will alter our shoreline morphology through time.\n",
    "\n",
    "There are 4 main parameters we can alter in this exercise: \n",
    "<li> Wave Period (T)</li>\n",
    "<li> Wave Height (H)</li>\n",
    "<li> Wave Asymmetry Ratio (A): see above </li>\n",
    "<li> Wave Angle Proportion (U): ratio of high angle to low angle waves</li>\n",
    "<br>\n",
    "\n",
    "You can find more information about these specific waves terms in the papers below:\n",
    "\n",
    "+ Ashton, Andrew; Murray, A. Brad; Arnoult, Olivier; 2001. Formation of coastline features by large-scale instabilities induced by high-angle waves. Nature, 414, 296–300. [10.1038/35104541](https://www.nature.com/articles/35104541)\n",
    "\n",
    "+ Ashton, A.D.; Murray, A.B. 2006. High-angle wave instability and emergent shoreline shapes: 1. Modeling of sand waves, flying spits, and capes. Journal of Geophysical Research, 111. [10.1029/2005JF000422](https://agupubs.onlinelibrary.wiley.com/doi/full/10.1029/2005JF000422)"
   ]
  },
  {
   "cell_type": "code",
   "execution_count": null,
   "id": "5ad5f6e9",
   "metadata": {},
   "outputs": [],
   "source": [
    "# Insert your values below\n",
    "params['shoreface_depth'] = 10. # recommended range: 10-20\n",
    "params['shoreface_slope'] = 3*shelf_slope # recommended range: 3-10*inner shelf slope\n",
    "# wave height\n",
    "params['sea_surface_water_wave__height'] = 3 # recommended range: 0.5-5\n",
    "# wave period\n",
    "params['sea_surface_water_wave__period'] = 6 # recommended range: 2-12\n",
    "# wave asymmetry\n",
    "params['sea_shoreline_wave~incoming~deepwater__ashton_et_al_approach_angle_asymmetry_parameter'] = 0.5 # range: 0-1\n",
    "# wave angle proportion\n",
    "params['sea_shoreline_wave~incoming~deepwater__ashton_et_al_approach_angle_highness_parameter'] = 0.5 # range: 0-1"
   ]
  },
  {
   "cell_type": "markdown",
   "id": "f34bc90f",
   "metadata": {},
   "source": [
    "As in previous section, re-initalize **CEM** and visualize our starting coastline:"
   ]
  },
  {
   "cell_type": "code",
   "execution_count": null,
   "id": "43a31b1a",
   "metadata": {},
   "outputs": [],
   "source": [
    "domain = fun.set_domain(elev, pad=20)\n",
    "fun.initialize_models(params,domain,cem,waves)\n",
    "land3 = cem.get_value('land_surface__elevation')\n",
    "land3 = land3.reshape(domain.shape)\n",
    "fun.plot_coast(land3,dx,dy)"
   ]
  },
  {
   "cell_type": "markdown",
   "id": "799b436f",
   "metadata": {},
   "source": [
    "Run **CEM** with our new wave climate inputs, changing the model duration run parameter:"
   ]
  },
  {
   "cell_type": "code",
   "execution_count": null,
   "id": "c087a212",
   "metadata": {},
   "outputs": [],
   "source": [
    "T = 20 # model duration (years)\n",
    "\n",
    "# With animation\n",
    "#fun.run_model_loop(T,domain,cem,waves,update_ani_years=1/2)\n",
    "\n",
    "# Without animation\n",
    "fun.run_model_loop(T, domain, cem, waves, animate=False)\n",
    "final3 = cem.get_value('land_surface__elevation')\n",
    "final3 = final3.reshape(domain.shape)\n",
    "fun.plot_coast(final3, dx, dy)"
   ]
  },
  {
   "cell_type": "code",
   "execution_count": null,
   "id": "fca71704",
   "metadata": {},
   "outputs": [],
   "source": [
    "diff3 = fun.plot_change(land3, final3, dx, dy)\n",
    "\n",
    "print('Overall general changes values [mean, min, max]: [',np.round(diff3.mean(),3),',',\n",
    "      np.round(diff3.min(),3),',',np.round(diff3.max(),3),']')"
   ]
  },
  {
   "cell_type": "markdown",
   "id": "66c88ce0",
   "metadata": {},
   "source": [
    "### Questions:\n",
    "\n",
    "Try running through this workflow again, modifying the different wave climate parameters. Once you have done this a couple times, please answer at least **2** of the following:\n",
    "\n",
    "1. How do changes in wave period affect the shoreline evolution?\n",
    "\n",
    "2. How do changes in wave height affect the shoreline evolution?\n",
    "\n",
    "3. How do changes in wave asymmetry affect your shoreline shape? What impacts do changes in wave direction have on the shoreline morphology?\n",
    "\n",
    "4. How do changes in the wave angle proportion term affect the shoreline morphology? Do high angle waves tend to elongate, or flatten the shoreline morphology? What about low angle waves?"
   ]
  },
  {
   "cell_type": "markdown",
   "id": "b3aa1527",
   "metadata": {},
   "source": [
    "## Comparing CEM to real world Change\n",
    "\n",
    "\n",
    "Region coordinates (bounding box): [42.099772,-80.053400], [42.175938,-80.181811]\n",
    "\n",
    "\n",
    "As we've likely discovered through our simulations, models aren't perfect predictors of how things will change and evolve over time. While **CEM** is a powerful tool for simulating shoreline change, it does not include all mechanisms and forcings found in the real world in it's model construction.\n",
    "\n",
    "### Questions:\n",
    "\n",
    "1. What are some assumptions CEM makes in simulating shoreline change? Can you think of any natural or anthropogenic processes that would affect our coastline not considered by the CEM?\n",
    "\n",
    "Throught these portion of the lab we have been simulating different shoreline change scenarios for our selected coastal region. We will now compare these model runs to a timelapse of Google Earth satellite images of our same shoreline. **[Click here](https://earthengine.google.com/timelapse/)** to access the GE timelapse portal, and locate your study site either through Lat-Lon coordinates, or through the interactive map interface.\n",
    "Once you have compared the model runs to the timelapse imagery, please answer the following:\n",
    "\n",
    "2. Compare and contrast the CEM model outputs to the satellite imagery. What's similar in the coastline shape? What's different?\n",
    "\n",
    "3. Think about what might be creating these differences between model simulations and the real world. What scenarios or processes from your answer to #1 might be affecting this region not captured by the CEM?\n",
    "\n",
    "4. Speculate on whether natural or anthropogenic processes are having more of an impact on this shoreline. How does climate change or sea level rise affect this region?"
   ]
  },
  {
   "cell_type": "code",
   "execution_count": null,
   "id": "b73f930e",
   "metadata": {},
   "outputs": [],
   "source": []
  }
 ],
 "metadata": {
  "kernelspec": {
   "display_name": "Python 3 (ipykernel)",
   "language": "python",
   "name": "python3"
  },
  "language_info": {
   "codemirror_mode": {
    "name": "ipython",
    "version": 3
   },
   "file_extension": ".py",
   "mimetype": "text/x-python",
   "name": "python",
   "nbconvert_exporter": "python",
   "pygments_lexer": "ipython3",
   "version": "3.8.15"
  }
 },
 "nbformat": 4,
 "nbformat_minor": 5
}
