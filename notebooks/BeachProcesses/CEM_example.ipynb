{
 "cells": [
  {
   "cell_type": "code",
   "execution_count": null,
   "metadata": {},
   "outputs": [],
   "source": [
    "import warnings\n",
    "warnings.simplefilter(action='ignore', category=FutureWarning)\n",
    "import numpy as np\n",
    "\n",
    "%matplotlib inline\n",
    "%config InlineBackend.figure_format = 'svg' \n",
    "\n",
    "from pymt.models import Cem, Waves\n",
    "\n",
    "import runmodels_functions as fun"
   ]
  },
  {
   "cell_type": "code",
   "execution_count": null,
   "metadata": {},
   "outputs": [],
   "source": [
    "# Load models\n",
    "cem = Cem() \n",
    "waves = Waves()"
   ]
  },
  {
   "cell_type": "code",
   "execution_count": null,
   "metadata": {},
   "outputs": [],
   "source": [
    "params = {\n",
    "    \n",
    "    ## CEM \n",
    "    'grid_spacing'    : 100.,                # meters\n",
    "    'shelf_slope'     : 0.001,\n",
    "    'shoreface_depth' : 10,                  # meters\n",
    "    'shoreface_slope' : 0.01,\n",
    "    'model__time_step': 0.25,                # days\n",
    "    \n",
    "    ##WAVES\n",
    "    'wave_height' : 1.5,                     # meters\n",
    "    'wave_period' : 7,                       # seconds\n",
    "    'wave_angle_highness': 0.7, \n",
    "    'wave_angle_asymmetry': 0.8\n",
    "    \n",
    "}\n",
    "\n",
    "domain = np.zeros([90,220])\n",
    "fun.initialize_models(params,domain,cem,waves,set_land=False)"
   ]
  },
  {
   "cell_type": "code",
   "execution_count": null,
   "metadata": {},
   "outputs": [],
   "source": [
    "land = cem.get_value('land_surface__elevation')\n",
    "land = land.reshape(domain.shape)\n",
    "fun.plot_coast(land,100,100)"
   ]
  },
  {
   "cell_type": "code",
   "execution_count": null,
   "metadata": {},
   "outputs": [],
   "source": [
    "T = 10 # years\n",
    "fun.run_model_loop(T,domain,cem,waves,update_ani_years=0.5)"
   ]
  },
  {
   "cell_type": "code",
   "execution_count": null,
   "metadata": {},
   "outputs": [],
   "source": []
  },
  {
   "cell_type": "code",
   "execution_count": null,
   "metadata": {},
   "outputs": [],
   "source": []
  }
 ],
 "metadata": {
  "kernelspec": {
   "display_name": "Python 3 (ipykernel)",
   "language": "python",
   "name": "python3"
  },
  "language_info": {
   "codemirror_mode": {
    "name": "ipython",
    "version": 3
   },
   "file_extension": ".py",
   "mimetype": "text/x-python",
   "name": "python",
   "nbconvert_exporter": "python",
   "pygments_lexer": "ipython3",
   "version": "3.8.15"
  }
 },
 "nbformat": 4,
 "nbformat_minor": 4
}
