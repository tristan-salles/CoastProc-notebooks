{
 "cells": [
  {
   "cell_type": "code",
   "execution_count": null,
   "metadata": {},
   "outputs": [],
   "source": [
    "%matplotlib inline\n",
    "%config InlineBackend.figure_format = 'svg' "
   ]
  },
  {
   "cell_type": "markdown",
   "metadata": {},
   "source": [
    "\n",
    "Runup dataset\n",
    "===========================================\n",
    "\n",
    "Runup is the final stage of a wave’s landward propagation, and thus the determinant of the most landward position a wave can reach before receding seaward. Runup above the local ocean level outside the surf zone results from a combination of two processes: \n",
    "+ wave induced setup and \n",
    "+ swash. \n",
    "\n",
    "\n",
    "\n",
    "![alt text](https://github.com/TristanSalles/CoastProc/blob/master/src/docs/images/runup.jpg?raw=true)\n",
    "\n",
    "\n",
    "Past research has focussed on modelling maximum wave runup values, most commonly **Rmax** and **R2%**. \n",
    "\n",
    "**Rmax** is the greatest elevation obtained by a single runup event within a given time period and is therefore a function of record length. \n",
    "\n",
    "**R2%** is a statistical measure of the elevation exceeded by only 2% of all runup or swash events within a time period.\n",
    "\n",
    "\n",
    "In this example, we will evaluate the compiled wave runup observations provided by **Power\n",
    "et al (2018)**.\n",
    "\n",
    "> Power, H.E., Gharabaghi, B., Bonakdari, H., Robertson, B., Atkinson, A.L., Baldock, T.E., 2018. Prediction of wave runup on beaches using Gene-Expression Programming and empirical relationships. Coastal Engineering. https://doi.org/10.1016/j.coastaleng.2018.10.006\n",
    "\n",
    "\n"
   ]
  },
  {
   "cell_type": "code",
   "execution_count": null,
   "metadata": {},
   "outputs": [],
   "source": [
    "import matplotlib.pyplot as plt\n",
    "import numpy as np\n",
    "from sklearn.metrics import mean_squared_error, r2_score\n",
    "\n",
    "from py_wave_runup import models"
   ]
  },
  {
   "cell_type": "markdown",
   "metadata": {},
   "source": [
    "Let's import the Power et al (2018) runup data, which is included in this\n",
    "package.\n",
    "\n"
   ]
  },
  {
   "cell_type": "code",
   "execution_count": null,
   "metadata": {},
   "outputs": [],
   "source": [
    "import pandas as pd\n",
    "\n",
    "# Manually define names for each column\n",
    "names = [\n",
    "    \"dataset\",\n",
    "    \"beach\",\n",
    "    \"case\",\n",
    "    \"lab_field\",\n",
    "    \"hs\",\n",
    "    \"tp\",\n",
    "    \"beta\",\n",
    "    \"d50\",\n",
    "    \"roughness\",\n",
    "    \"r2\",\n",
    "]\n",
    "\n",
    "df = pd.read_csv('../../dataset/power18.csv', encoding=\"utf8\", names=names, skiprows=1)\n",
    "print(df.head())"
   ]
  },
  {
   "cell_type": "markdown",
   "metadata": {},
   "source": [
    "# Iribarren number \n",
    "\n",
    "\n",
    "The **Iribarren number** or the *surf similarity parameter* $\\epsilon$ (Battjes, 1974) is a **dimensionless parameter** that has been used widely to describe beach and surf zone morphodynamics and frequently features in runup predictors (e.g., Battjes, 1971, Roos and Battjes, 1976; Holman and Sallenger, 1985, Holman, 1986; Van der Meer and Stam, 1992; Stockdon et al., 2006).\n",
    "\n",
    "$$\\epsilon = \\frac{tan \\beta}{\\sqrt(H_0/\\lambda_0)}$$\n",
    "\n",
    "where\n",
    "\n",
    "$$\\lambda_0 = gT^2/\\pi$$\n",
    "\n",
    "\n",
    "and $tan \\beta$ = beach slope, $H_0$ = deep water wave height, $\\lambda_0$ = deep water wavelength, $T$ = wave period, $g$ = acceleration due to gravity, and the subscript ‘0’ denotes deep water conditions.\n",
    "\n",
    "First we write a Python function to compute this number:"
   ]
  },
  {
   "cell_type": "code",
   "execution_count": null,
   "metadata": {},
   "outputs": [],
   "source": [
    "def iribarrenNb(Tp,Hs,beta):\n",
    "    \n",
    "    Lp = 9.81 * (Tp ** 2) / (2 * np.pi)\n",
    "    zeta = beta / (Hs / Lp)**(0.5)\n",
    "\n",
    "    return zeta"
   ]
  },
  {
   "cell_type": "markdown",
   "metadata": {},
   "source": [
    "We call the function with the Power et al (2018) runup dataset"
   ]
  },
  {
   "cell_type": "code",
   "execution_count": null,
   "metadata": {},
   "outputs": [],
   "source": [
    "iribarren = iribarrenNb(Tp=df.tp, Hs=df.hs, beta=df.beta)\n",
    "\n",
    "\n",
    "# Append a new column at the end of our iribarren values\n",
    "df[\"iribarren\"] = iribarren"
   ]
  },
  {
   "cell_type": "markdown",
   "metadata": {},
   "source": [
    "# Plotting Powell (2018) dataset\n",
    "\n",
    "Ratio of 2% exceedance (R2%) and the significant wave height (Hs) plotted against the Iribarren number for the ten datasets."
   ]
  },
  {
   "cell_type": "code",
   "execution_count": null,
   "metadata": {},
   "outputs": [],
   "source": [
    "# Set figure parameter\n",
    "plt.figure(figsize=(8,6))\n",
    "\n",
    "# Plot vertical dot lines between sediment classes\n",
    "# define the line like this [x1,x2],[y1,y2]\n",
    "plt.plot([0.5, 0.5],[0, 5.],'k--',linewidth=1)\n",
    "plt.plot([1.5, 1.5],[0, 5.],'k--',linewidth=1)\n",
    "plt.axis([0,3.5,0,4.2]);\n",
    "\n",
    "\n",
    "# Plot beach types\n",
    "plt.text(0.1, 3.5, 'dissipative', fontsize=10, rotation='vertical')\n",
    "plt.text(0.6, 3.38, 'intermediate', fontsize=10, rotation='vertical')\n",
    "plt.text(1.6, 3.6, 'reflective', fontsize=10, rotation='vertical')\n",
    "\n",
    "# Plot measured data\n",
    "ids1 = np.where(df.iribarren<0.5)[0]\n",
    "plt.plot(df.iribarren[ids1],df.r2[ids1]/df.hs[ids1],'ko',markerfacecolor=[1.0, 0.5, 1.0], markersize=7)\n",
    "ids2 = np.where(np.logical_and(df.iribarren>=0.5,df.iribarren<1.5))[0]\n",
    "plt.plot(df.iribarren[ids2],df.r2[ids2]/df.hs[ids2],'ko',markerfacecolor=[1.0, 0.5, 0.5], markersize=7)\n",
    "ids3 = np.where(df.iribarren>=1.5)[0]\n",
    "plt.plot(df.iribarren[ids3],df.r2[ids3]/df.hs[ids3],'ko',markerfacecolor=[0.0, 0.5, 0.5], markersize=7)\n",
    "\n",
    "plt.xlabel('Iribarren number $\\epsilon$',fontsize=12)\n",
    "plt.ylabel('$R_{2\\%}/H_s$',fontsize=12)\n",
    "\n",
    "plt.show()\n",
    "plt.close()"
   ]
  },
  {
   "cell_type": "code",
   "execution_count": null,
   "metadata": {},
   "outputs": [],
   "source": [
    "# Set figure parameter\n",
    "plt.figure(figsize=(8,6))\n",
    "\n",
    "# Plot vertical dot lines between sediment classes\n",
    "# define the line like this [x1,x2],[y1,y2]\n",
    "plt.axis([0,7,0,12]);\n",
    "\n",
    "\n",
    "# Plot measured data\n",
    "plt.plot(df.hs[ids1],df.r2[ids1],'ko',markerfacecolor=[1.0, 0.5, 1.0], markersize=7,label='dissipative')\n",
    "plt.plot(df.hs[ids2],df.r2[ids2],'ko',markerfacecolor=[1.0, 0.5, 0.5], markersize=7,label='intermediate')\n",
    "plt.plot(df.hs[ids3],df.r2[ids3],'ko',markerfacecolor=[0.0, 0.5, 0.5], markersize=7,label='reflective')\n",
    "\n",
    "plt.legend(loc=2, fontsize=10)\n",
    "plt.xlabel('$H_s$ (m)',fontsize=12)\n",
    "plt.ylabel('$R_{2\\%}$ (m)',fontsize=12)\n",
    "\n",
    "plt.show()\n",
    "plt.close()"
   ]
  },
  {
   "cell_type": "code",
   "execution_count": null,
   "metadata": {},
   "outputs": [],
   "source": []
  },
  {
   "cell_type": "code",
   "execution_count": null,
   "metadata": {},
   "outputs": [],
   "source": []
  }
 ],
 "metadata": {
  "kernelspec": {
   "display_name": "Python 3 (ipykernel)",
   "language": "python",
   "name": "python3"
  },
  "language_info": {
   "codemirror_mode": {
    "name": "ipython",
    "version": 3
   },
   "file_extension": ".py",
   "mimetype": "text/x-python",
   "name": "python",
   "nbconvert_exporter": "python",
   "pygments_lexer": "ipython3",
   "version": "3.8.15"
  }
 },
 "nbformat": 4,
 "nbformat_minor": 1
}
