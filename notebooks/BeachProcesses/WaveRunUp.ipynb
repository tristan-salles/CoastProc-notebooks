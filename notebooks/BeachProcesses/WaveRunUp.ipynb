{
 "cells": [
  {
   "cell_type": "code",
   "execution_count": null,
   "metadata": {},
   "outputs": [],
   "source": [
    "%matplotlib inline\n",
    "%config InlineBackend.figure_format = 'svg' "
   ]
  },
  {
   "cell_type": "markdown",
   "metadata": {},
   "source": [
    "\n",
    "Assessing Stockdon et al (2006) runup model\n",
    "===========================================\n",
    "\n",
    "Runup is the final stage of a wave’s landward propagation, and thus the determinant of the most landward position a wave can reach before receding seaward. Runup above the local ocean level outside the surf zone results from a combination of two processes: \n",
    "+ wave induced setup and \n",
    "+ swash. \n",
    "\n",
    "\n",
    "\n",
    "\n",
    "![alt text](https://github.com/TristanSalles/CoastProc/blob/master/src/docs/images/runup.jpg?raw=true)\n",
    "\n",
    "\n",
    "Past research has focussed on modelling maximum wave runup values, most commonly **Rmax** and **R2%**. \n",
    "\n",
    "**Rmax** is the greatest elevation obtained by a single runup event within a given time period and is therefore a function of record length. \n",
    "\n",
    "**R2%** is a statistical measure of the elevation exceeded by only 2% of all runup or swash events within a time period.\n",
    "\n",
    "\n",
    "In this example, we will evaluate the accuracy of the **Stockdon et al (2006) runup\n",
    "model**. \n",
    "\n",
    "> Stockdon, H. F., Holman, R. A., Howd, P. A., & Sallenger, A. H. (2006). Empirical parameterization of setup, swash, and runup. Coastal Engineering, 53(7), 573–588. https://doi.org/10.1016/j.coastaleng.2005.12.005\n",
    "\n",
    "\n",
    "To do this, we will use the compiled wave runup observations provided by **Power\n",
    "et al (2018)**.\n",
    "\n",
    "> Power, H.E., Gharabaghi, B., Bonakdari, H., Robertson, B., Atkinson, A.L., Baldock, T.E., 2018. Prediction of wave runup on beaches using Gene-Expression Programming and empirical relationships. Coastal Engineering. https://doi.org/10.1016/j.coastaleng.2018.10.006\n",
    "\n",
    "The **Stockdon et al (2006)** wave runup model comprises of two relationships, one for\n",
    "*dissipative* beaches (i.e. $\\zeta < 0.3$) Eqn (18):\n",
    "\n",
    "\\begin{align}R_{2} = 0.043(H_{s}L_{p})^{0.5}\\end{align}\n",
    "\n",
    "and a seperate relationship for *intermediate* and *reflective* beaches (*i.e.*\n",
    "$\\zeta > 0.3$):\n",
    "\n",
    "\\begin{align}R_{2} = 1.1 \\left( 0.35 \\beta (H_{s}L_{p})^{0.5} + \\frac{H_{s}L_{p}(\n",
    "    0.563 \\beta^{2} +0.004)^{0.5}}{2} \\right)\\end{align}\n",
    "\n",
    "First, let's import our required packages:\n"
   ]
  },
  {
   "cell_type": "code",
   "execution_count": null,
   "metadata": {},
   "outputs": [],
   "source": [
    "import matplotlib.pyplot as plt\n",
    "import numpy as np\n",
    "from sklearn.metrics import mean_squared_error, r2_score\n",
    "\n",
    "from py_wave_runup import models"
   ]
  },
  {
   "cell_type": "markdown",
   "metadata": {},
   "source": [
    "Let's import the Power et al (2018) runup data, which is included in this\n",
    "package.\n",
    "\n"
   ]
  },
  {
   "cell_type": "code",
   "execution_count": null,
   "metadata": {},
   "outputs": [],
   "source": [
    "import pandas as pd\n",
    "\n",
    "# Manually define names for each column\n",
    "names = [\n",
    "    \"dataset\",\n",
    "    \"beach\",\n",
    "    \"case\",\n",
    "    \"lab_field\",\n",
    "    \"hs\",\n",
    "    \"tp\",\n",
    "    \"beta\",\n",
    "    \"d50\",\n",
    "    \"roughness\",\n",
    "    \"r2\",\n",
    "]\n",
    "\n",
    "df = pd.read_csv('../../dataset/power18.csv', encoding=\"utf8\", names=names, skiprows=1)\n",
    "print(df.head())"
   ]
  },
  {
   "cell_type": "markdown",
   "metadata": {},
   "source": [
    "We can see that this dataset gives us $H_{s}$ (significant wave height),\n",
    "$T_{p}$ (peak wave period), $\\tan \\beta$ (beach slope). Let's import\n",
    "the Stockdon runup model and calculate the estimated $R_{2}$ runup value for\n",
    "each row in this dataset.\n",
    "\n"
   ]
  },
  {
   "cell_type": "code",
   "execution_count": null,
   "metadata": {},
   "outputs": [],
   "source": [
    "# Initalize the Stockdon 2006 model with values from the dataset\n",
    "sto06 = models.Stockdon2006(Hs=df.hs, Tp=df.tp, beta=df.beta)\n",
    "\n",
    "# Append a new column at the end of our dataset with Stockdon 2006 R2 estimations\n",
    "df[\"sto06_r2\"] = sto06.R2\n",
    "\n",
    "# Check the first few rows of observed vs. modelled R2\n",
    "print(df[[\"r2\", \"sto06_r2\"]].head())"
   ]
  },
  {
   "cell_type": "markdown",
   "metadata": {},
   "source": [
    "Now let's create a plot of observed R2 values vs. predicted R2 values:\n",
    "\n"
   ]
  },
  {
   "cell_type": "code",
   "execution_count": null,
   "metadata": {},
   "outputs": [],
   "source": [
    "# Plot data\n",
    "fig, ax1 = plt.subplots(1, 1, figsize=(4, 4), dpi=150)\n",
    "ax1.plot(df.r2, df.sto06_r2, \"b.\", markersize=4, linewidth=0.5)\n",
    "\n",
    "# Add 1:1 line to indicate perfect fit\n",
    "ax1.plot([0, 12], [0, 12], \"r-\", linewidth=1)\n",
    "\n",
    "# Add axis labels\n",
    "ax1.set_xlabel(\"Observed R2 (m)\", fontsize=8)\n",
    "ax1.set_ylabel(\"Modelled R2 (m)\", fontsize=8)\n",
    "ax1.set_title(\"Stockdon et al. (2006) Runup Model\", fontsize=9)\n",
    "\n",
    "plt.xticks(fontsize=7, rotation=0)\n",
    "plt.yticks(fontsize=7, rotation=0)\n",
    "\n",
    "plt.tight_layout()"
   ]
  },
  {
   "cell_type": "markdown",
   "metadata": {},
   "source": [
    "We can see there is a fair amount of scatter, especially as we get larger wave\n",
    "runup heights. This indicates that the model might not be working as well as we\n",
    "might have hoped.\n",
    "\n",
    "Let's also check RMSE and coefficient of determination values:\n",
    "\n"
   ]
  },
  {
   "cell_type": "code",
   "execution_count": null,
   "metadata": {},
   "outputs": [],
   "source": [
    "print(\"R2 Score: {0:.2f}\".format(r2_score(df.r2, df.sto06_r2)))\n",
    "print(\"RMSE: {0:.2f} m\".format(np.sqrt(mean_squared_error(df.r2, df.sto06_r2))))"
   ]
  },
  {
   "cell_type": "markdown",
   "metadata": {},
   "source": [
    "# Power et al. (2018) model\n",
    "\n",
    "Let us try the Power et al. (2018) model:"
   ]
  },
  {
   "cell_type": "code",
   "execution_count": null,
   "metadata": {},
   "outputs": [],
   "source": [
    "df = pd.read_csv('../../dataset/power18.csv', encoding=\"utf8\", names=names, skiprows=1)"
   ]
  },
  {
   "cell_type": "code",
   "execution_count": null,
   "metadata": {},
   "outputs": [],
   "source": [
    "# Initalize the Nielsen 2009 model with values from the dataset\n",
    "pow18 = models.Power2018(Hs=df.hs, Tp=df.tp, beta=df.beta, r=df.roughness)\n",
    "\n",
    "# Append a new column at the end of our dataset with Stockdon 2006 R2 estimations\n",
    "df[\"pow18_r2\"] = pow18.R2\n",
    "\n",
    "# Check the first few rows of observed vs. modelled R2\n",
    "print(df[[\"r2\", \"pow18_r2\"]].head())"
   ]
  },
  {
   "cell_type": "code",
   "execution_count": null,
   "metadata": {},
   "outputs": [],
   "source": [
    "# Plot data\n",
    "fig, ax1 = plt.subplots(1, 1, figsize=(4, 4), dpi=150)\n",
    "ax1.plot(df.r2, df.pow18_r2, \"g.\", markersize=4, linewidth=0.5)\n",
    "\n",
    "# Add 1:1 line to indicate perfect fit\n",
    "ax1.plot([0, 12], [0, 12], \"k-\", linewidth=1)\n",
    "\n",
    "# Add axis labels\n",
    "ax1.set_xlabel(\"Observed R2 (m)\", fontsize=8)\n",
    "ax1.set_ylabel(\"Modelled R2 (m)\", fontsize=8)\n",
    "ax1.set_title(\"Power et al. (2018) Runup Model\", fontsize=9)\n",
    "\n",
    "plt.xticks(fontsize=7, rotation=0)\n",
    "plt.yticks(fontsize=7, rotation=0)\n",
    "\n",
    "plt.tight_layout()"
   ]
  },
  {
   "cell_type": "code",
   "execution_count": null,
   "metadata": {},
   "outputs": [],
   "source": [
    "print(\"R2 Score: {0:.2f}\".format(r2_score(df.r2, df.pow18_r2)))\n",
    "print(\"RMSE: {0:.2f} m\".format(np.sqrt(mean_squared_error(df.r2, df.pow18_r2))))"
   ]
  },
  {
   "cell_type": "code",
   "execution_count": null,
   "metadata": {},
   "outputs": [],
   "source": []
  }
 ],
 "metadata": {
  "kernelspec": {
   "display_name": "Python 3 (ipykernel)",
   "language": "python",
   "name": "python3"
  },
  "language_info": {
   "codemirror_mode": {
    "name": "ipython",
    "version": 3
   },
   "file_extension": ".py",
   "mimetype": "text/x-python",
   "name": "python",
   "nbconvert_exporter": "python",
   "pygments_lexer": "ipython3",
   "version": "3.8.15"
  }
 },
 "nbformat": 4,
 "nbformat_minor": 1
}
