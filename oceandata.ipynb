{
 "cells": [
  {
   "cell_type": "markdown",
   "id": "12ad53eb",
   "metadata": {},
   "source": [
    "# Coastal Processes, Environments & Systems - Ocean Data Query\n",
    "\n",
    "\n",
    "## [Available notebooks](notebooks/QueryOcean) "
   ]
  },
  {
   "cell_type": "markdown",
   "id": "d3c35eca",
   "metadata": {},
   "source": [
    "# In-class exercises\n",
    "\n",
    "### 1. [Gold Coast Wave Buoy](notebooks/QueryOcean/BuoyGoldCoast.ipynb) / BuoyGoldCoast.ipynb\n",
    "\n",
    "We plot different variables available from wave parameters collected by a wave monitoring buoy anchored in the Gold Coast.\n",
    "\n",
    "### 2. [IMOS data](notebooks/QueryOcean/OceanData1.ipynb) / OceanData1.ipynb\n",
    "\n",
    "This notebook intends to present how to load **IMOS NetCDF data** into a Jupyter environment, and offers some suggestions about how to use the data once loaded. \n",
    "\n",
    "### 3. [ACORN data](notebooks/QueryOcean/OceanData2.ipynb) / OceanData2.ipynb\n",
    "\n",
    "In this example, we first export the ACORN dataset (**NetCDF**) for a given region and then we plot the velocity field at a given time on a 2D grid."
   ]
  },
  {
   "cell_type": "code",
   "execution_count": null,
   "id": "93ab0e4f",
   "metadata": {},
   "outputs": [],
   "source": [
    "from IPython.display import YouTubeVideo\n",
    "YouTubeVideo('qiw0yGzfZak', width=760, height=450)"
   ]
  },
  {
   "cell_type": "markdown",
   "id": "7b71f104",
   "metadata": {},
   "source": [
    "# Practical notebooks"
   ]
  },
  {
   "cell_type": "markdown",
   "id": "32e77b13",
   "metadata": {},
   "source": [
    "The goals of this lab are:\n",
    "+ To help you get comfortable with Jupyter notebooks. (We will use it throughout our modelling lectures and practicals).\n",
    "+ To show you some examples of dataset coming from different systems: buoys & models.\n",
    "+ To familiarize you with the different open data services and the most common data formats."
   ]
  },
  {
   "cell_type": "markdown",
   "id": "2df8924b",
   "metadata": {},
   "source": [
    "### 1. [Waverider](notebooks/QueryOcean/Waverider.ipynb) / Waverider.ipynb\n",
    "\n",
    "The NSW Wave Climate Program utilises a network of seven Waverider stations along the NSW coast. The buoys are located off _Byron Bay_, _Coffs Harbour_, _Crowdy Head_, _Sydney_, _Port Kembla_, _Batemans Bay_ and _Eden_. \n",
    "\n",
    "To provide deepwater wave data, the buoys are typically moored in water depths between 60 and 100 metres, between 6 and 12 kilometres from the shoreline. In this notebook, you will first load the historical records for the buoy located Offshore Sydney.\n",
    "\n",
    "### 2. [Ocean Forecast Model](notebooks/QueryOcean/Oceanforecast.ipynb) / Oceanforecast.ipynb\n",
    "\n",
    "We have seen how to use real observations to assess wave conditions. Now we will work with a forecast model called **FVCOM** (Finite-Volume, primitive equation Community Ocean Model) and analyse the future conditions in Gulf of Maine area.\n"
   ]
  },
  {
   "cell_type": "code",
   "execution_count": null,
   "id": "0d74f31e",
   "metadata": {},
   "outputs": [],
   "source": []
  }
 ],
 "metadata": {
  "kernelspec": {
   "display_name": "Python 3 (ipykernel)",
   "language": "python",
   "name": "python3"
  },
  "language_info": {
   "codemirror_mode": {
    "name": "ipython",
    "version": 3
   },
   "file_extension": ".py",
   "mimetype": "text/x-python",
   "name": "python",
   "nbconvert_exporter": "python",
   "pygments_lexer": "ipython3",
   "version": "3.8.15"
  }
 },
 "nbformat": 4,
 "nbformat_minor": 5
}
