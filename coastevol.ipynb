{
 "cells": [
  {
   "cell_type": "markdown",
   "id": "cdcb28db",
   "metadata": {},
   "source": [
    "# Coastal Processes, Environments & Systems - Quantifying Coastal Changes\n",
    "\n",
    "In this session, you will investigate nearshore to beach processes from wave run-up to beach profiles. You will also look at different numerical approaches to analyse shoreline changes.\n",
    "\n",
    "# In-class exercises\n",
    "\n",
    "## [Available notebooks](notebooks/BeachProcesses) \n",
    "\n",
    "\n",
    "### 1. [Wave Runup Formulations](notebooks/BeachProcesses/WaveRunUp.ipynb) / WaveRunUp.ipynb\n",
    "\n",
    "Evaluating the differences between predicted wave runup based on 2 formulations: Stockdon et al (2006) & Power et al. (2018).\n",
    "\n",
    "### 2. [Runup Exceedance vs Surf Similarity](notebooks/BeachProcesses/OceanData1.ipynb) / RunUpDataSet.ipynb\n",
    "\n",
    "Using Power et al. (2018)  dataset, we explore the relationship between the surf similarity parameter and the run-up for different beach types.\n",
    "\n",
    "### 3. [Dune Evaluation](notebooks/BeachProcesses/pyBeach.ipynb) / pyBeach.ipynb\n",
    "\n",
    "The **pyBeach** library provides an automatic way for locating the dune toe on cross-shore beach profile transects.\n",
    "\n",
    "### 4. [Simple Long Term Coastal Model](notebooks/LongTerm/SedTransport.ipynb) / SedTransport.ipynb\n",
    "\n",
    "Using a **wave propagation model based on linear wave theory**, we investigate the cumulative effect of a given wave forcing condition on erosional and depositional trend across a regional coastal system."
   ]
  },
  {
   "cell_type": "markdown",
   "id": "0ee8a74a",
   "metadata": {},
   "source": [
    "# Practical notebooks\n",
    "\n",
    "\n",
    "## [Available notebooks](notebooks/CoastEvol_Prac) \n",
    "\n"
   ]
  },
  {
   "cell_type": "markdown",
   "id": "c3be83d8",
   "metadata": {},
   "source": [
    "The goals of this lab are, you will look at the evolution of coastal system in **2D** and explore the complex interactions between _hydrodynamics_ and _morphodynamics_ using the **COVE** and **CEM** models.\n",
    "\n",
    "### 1. [Sandy Shoreline Dynamic](notebooks/CoastEvol_Prac/ShorelineCEM.ipynb) / ShorelineCEM.ipynb\n",
    "\n",
    "You will visualize the evolution of a sandy beach through time, and explore the impact of different initial conditions on its evolution.  \n",
    "\n",
    "### 2. [Crenulated Bay Evolution](notebooks/CoastEvol_Prac/BaySensitivity.ipynb) / BaySensitivity.ipynb\n",
    "\n",
    "You will analyse the sensitivities of crenulated bay shorelines to wave climates. \n"
   ]
  },
  {
   "cell_type": "code",
   "execution_count": null,
   "id": "108d9b15",
   "metadata": {},
   "outputs": [],
   "source": []
  }
 ],
 "metadata": {
  "kernelspec": {
   "display_name": "Python 3 (ipykernel)",
   "language": "python",
   "name": "python3"
  },
  "language_info": {
   "codemirror_mode": {
    "name": "ipython",
    "version": 3
   },
   "file_extension": ".py",
   "mimetype": "text/x-python",
   "name": "python",
   "nbconvert_exporter": "python",
   "pygments_lexer": "ipython3",
   "version": "3.8.15"
  }
 },
 "nbformat": 4,
 "nbformat_minor": 5
}
